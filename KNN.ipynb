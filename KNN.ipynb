{
 "cells": [
  {
   "cell_type": "code",
   "execution_count": 1,
   "metadata": {},
   "outputs": [
    {
     "data": {
      "text/html": [
       "<div>\n",
       "<style scoped>\n",
       "    .dataframe tbody tr th:only-of-type {\n",
       "        vertical-align: middle;\n",
       "    }\n",
       "\n",
       "    .dataframe tbody tr th {\n",
       "        vertical-align: top;\n",
       "    }\n",
       "\n",
       "    .dataframe thead th {\n",
       "        text-align: right;\n",
       "    }\n",
       "</style>\n",
       "<table border=\"1\" class=\"dataframe\">\n",
       "  <thead>\n",
       "    <tr style=\"text-align: right;\">\n",
       "      <th></th>\n",
       "      <th>GeneralHealth</th>\n",
       "      <th>PhysicalHealthDays</th>\n",
       "      <th>MentalHealthDays</th>\n",
       "      <th>PhysicalActivities</th>\n",
       "      <th>SleepHours</th>\n",
       "      <th>HadHeartAttack</th>\n",
       "      <th>HadAngina</th>\n",
       "      <th>HadStroke</th>\n",
       "      <th>HadAsthma</th>\n",
       "      <th>HadSkinCancer</th>\n",
       "      <th>...</th>\n",
       "      <th>AgeCategory_Age 75 to 79</th>\n",
       "      <th>AgeCategory_Age 80 or older</th>\n",
       "      <th>TetanusLast10Tdap_No, did not receive any tetanus shot in the past 10 years</th>\n",
       "      <th>TetanusLast10Tdap_Yes, received Tdap</th>\n",
       "      <th>TetanusLast10Tdap_Yes, received tetanus shot but not sure what type</th>\n",
       "      <th>TetanusLast10Tdap_Yes, received tetanus shot, but not Tdap</th>\n",
       "      <th>HadDiabetes_No</th>\n",
       "      <th>HadDiabetes_No, pre-diabetes or borderline diabetes</th>\n",
       "      <th>HadDiabetes_Yes</th>\n",
       "      <th>HadDiabetes_Yes, but only during pregnancy (female)</th>\n",
       "    </tr>\n",
       "  </thead>\n",
       "  <tbody>\n",
       "    <tr>\n",
       "      <th>0</th>\n",
       "      <td>0.75</td>\n",
       "      <td>0.133333</td>\n",
       "      <td>0.000000</td>\n",
       "      <td>1.0</td>\n",
       "      <td>0.347826</td>\n",
       "      <td>0.0</td>\n",
       "      <td>0.0</td>\n",
       "      <td>0.0</td>\n",
       "      <td>0.0</td>\n",
       "      <td>0.0</td>\n",
       "      <td>...</td>\n",
       "      <td>0.0</td>\n",
       "      <td>0.0</td>\n",
       "      <td>0.0</td>\n",
       "      <td>1.0</td>\n",
       "      <td>0.0</td>\n",
       "      <td>0.0</td>\n",
       "      <td>1.0</td>\n",
       "      <td>0.0</td>\n",
       "      <td>0.0</td>\n",
       "      <td>0.0</td>\n",
       "    </tr>\n",
       "    <tr>\n",
       "      <th>1</th>\n",
       "      <td>0.75</td>\n",
       "      <td>0.000000</td>\n",
       "      <td>0.000000</td>\n",
       "      <td>1.0</td>\n",
       "      <td>0.217391</td>\n",
       "      <td>0.0</td>\n",
       "      <td>0.0</td>\n",
       "      <td>0.0</td>\n",
       "      <td>0.0</td>\n",
       "      <td>0.0</td>\n",
       "      <td>...</td>\n",
       "      <td>0.0</td>\n",
       "      <td>0.0</td>\n",
       "      <td>0.0</td>\n",
       "      <td>0.0</td>\n",
       "      <td>1.0</td>\n",
       "      <td>0.0</td>\n",
       "      <td>0.0</td>\n",
       "      <td>0.0</td>\n",
       "      <td>1.0</td>\n",
       "      <td>0.0</td>\n",
       "    </tr>\n",
       "    <tr>\n",
       "      <th>2</th>\n",
       "      <td>0.75</td>\n",
       "      <td>0.000000</td>\n",
       "      <td>0.000000</td>\n",
       "      <td>0.0</td>\n",
       "      <td>0.304348</td>\n",
       "      <td>0.0</td>\n",
       "      <td>0.0</td>\n",
       "      <td>0.0</td>\n",
       "      <td>0.0</td>\n",
       "      <td>0.0</td>\n",
       "      <td>...</td>\n",
       "      <td>1.0</td>\n",
       "      <td>0.0</td>\n",
       "      <td>1.0</td>\n",
       "      <td>0.0</td>\n",
       "      <td>0.0</td>\n",
       "      <td>0.0</td>\n",
       "      <td>1.0</td>\n",
       "      <td>0.0</td>\n",
       "      <td>0.0</td>\n",
       "      <td>0.0</td>\n",
       "    </tr>\n",
       "    <tr>\n",
       "      <th>3</th>\n",
       "      <td>0.25</td>\n",
       "      <td>0.166667</td>\n",
       "      <td>0.000000</td>\n",
       "      <td>1.0</td>\n",
       "      <td>0.347826</td>\n",
       "      <td>0.0</td>\n",
       "      <td>0.0</td>\n",
       "      <td>0.0</td>\n",
       "      <td>0.0</td>\n",
       "      <td>1.0</td>\n",
       "      <td>...</td>\n",
       "      <td>0.0</td>\n",
       "      <td>1.0</td>\n",
       "      <td>1.0</td>\n",
       "      <td>0.0</td>\n",
       "      <td>0.0</td>\n",
       "      <td>0.0</td>\n",
       "      <td>1.0</td>\n",
       "      <td>0.0</td>\n",
       "      <td>0.0</td>\n",
       "      <td>0.0</td>\n",
       "    </tr>\n",
       "    <tr>\n",
       "      <th>4</th>\n",
       "      <td>0.50</td>\n",
       "      <td>0.100000</td>\n",
       "      <td>0.500000</td>\n",
       "      <td>1.0</td>\n",
       "      <td>0.173913</td>\n",
       "      <td>0.0</td>\n",
       "      <td>0.0</td>\n",
       "      <td>0.0</td>\n",
       "      <td>0.0</td>\n",
       "      <td>0.0</td>\n",
       "      <td>...</td>\n",
       "      <td>0.0</td>\n",
       "      <td>1.0</td>\n",
       "      <td>1.0</td>\n",
       "      <td>0.0</td>\n",
       "      <td>0.0</td>\n",
       "      <td>0.0</td>\n",
       "      <td>1.0</td>\n",
       "      <td>0.0</td>\n",
       "      <td>0.0</td>\n",
       "      <td>0.0</td>\n",
       "    </tr>\n",
       "    <tr>\n",
       "      <th>...</th>\n",
       "      <td>...</td>\n",
       "      <td>...</td>\n",
       "      <td>...</td>\n",
       "      <td>...</td>\n",
       "      <td>...</td>\n",
       "      <td>...</td>\n",
       "      <td>...</td>\n",
       "      <td>...</td>\n",
       "      <td>...</td>\n",
       "      <td>...</td>\n",
       "      <td>...</td>\n",
       "      <td>...</td>\n",
       "      <td>...</td>\n",
       "      <td>...</td>\n",
       "      <td>...</td>\n",
       "      <td>...</td>\n",
       "      <td>...</td>\n",
       "      <td>...</td>\n",
       "      <td>...</td>\n",
       "      <td>...</td>\n",
       "      <td>...</td>\n",
       "    </tr>\n",
       "    <tr>\n",
       "      <th>246017</th>\n",
       "      <td>0.75</td>\n",
       "      <td>0.000000</td>\n",
       "      <td>0.000000</td>\n",
       "      <td>1.0</td>\n",
       "      <td>0.217391</td>\n",
       "      <td>0.0</td>\n",
       "      <td>0.0</td>\n",
       "      <td>0.0</td>\n",
       "      <td>0.0</td>\n",
       "      <td>0.0</td>\n",
       "      <td>...</td>\n",
       "      <td>0.0</td>\n",
       "      <td>0.0</td>\n",
       "      <td>0.0</td>\n",
       "      <td>0.0</td>\n",
       "      <td>1.0</td>\n",
       "      <td>0.0</td>\n",
       "      <td>1.0</td>\n",
       "      <td>0.0</td>\n",
       "      <td>0.0</td>\n",
       "      <td>0.0</td>\n",
       "    </tr>\n",
       "    <tr>\n",
       "      <th>246018</th>\n",
       "      <td>0.25</td>\n",
       "      <td>0.000000</td>\n",
       "      <td>0.233333</td>\n",
       "      <td>1.0</td>\n",
       "      <td>0.260870</td>\n",
       "      <td>0.0</td>\n",
       "      <td>0.0</td>\n",
       "      <td>0.0</td>\n",
       "      <td>0.0</td>\n",
       "      <td>0.0</td>\n",
       "      <td>...</td>\n",
       "      <td>0.0</td>\n",
       "      <td>0.0</td>\n",
       "      <td>1.0</td>\n",
       "      <td>0.0</td>\n",
       "      <td>0.0</td>\n",
       "      <td>0.0</td>\n",
       "      <td>1.0</td>\n",
       "      <td>0.0</td>\n",
       "      <td>0.0</td>\n",
       "      <td>0.0</td>\n",
       "    </tr>\n",
       "    <tr>\n",
       "      <th>246019</th>\n",
       "      <td>0.50</td>\n",
       "      <td>0.000000</td>\n",
       "      <td>0.500000</td>\n",
       "      <td>1.0</td>\n",
       "      <td>0.260870</td>\n",
       "      <td>0.0</td>\n",
       "      <td>0.0</td>\n",
       "      <td>1.0</td>\n",
       "      <td>0.0</td>\n",
       "      <td>0.0</td>\n",
       "      <td>...</td>\n",
       "      <td>0.0</td>\n",
       "      <td>0.0</td>\n",
       "      <td>0.0</td>\n",
       "      <td>0.0</td>\n",
       "      <td>1.0</td>\n",
       "      <td>0.0</td>\n",
       "      <td>0.0</td>\n",
       "      <td>0.0</td>\n",
       "      <td>1.0</td>\n",
       "      <td>0.0</td>\n",
       "    </tr>\n",
       "    <tr>\n",
       "      <th>246020</th>\n",
       "      <td>1.00</td>\n",
       "      <td>0.066667</td>\n",
       "      <td>0.066667</td>\n",
       "      <td>1.0</td>\n",
       "      <td>0.260870</td>\n",
       "      <td>0.0</td>\n",
       "      <td>0.0</td>\n",
       "      <td>0.0</td>\n",
       "      <td>0.0</td>\n",
       "      <td>0.0</td>\n",
       "      <td>...</td>\n",
       "      <td>0.0</td>\n",
       "      <td>0.0</td>\n",
       "      <td>0.0</td>\n",
       "      <td>0.0</td>\n",
       "      <td>1.0</td>\n",
       "      <td>0.0</td>\n",
       "      <td>1.0</td>\n",
       "      <td>0.0</td>\n",
       "      <td>0.0</td>\n",
       "      <td>0.0</td>\n",
       "    </tr>\n",
       "    <tr>\n",
       "      <th>246021</th>\n",
       "      <td>0.75</td>\n",
       "      <td>0.000000</td>\n",
       "      <td>0.000000</td>\n",
       "      <td>0.0</td>\n",
       "      <td>0.173913</td>\n",
       "      <td>1.0</td>\n",
       "      <td>0.0</td>\n",
       "      <td>0.0</td>\n",
       "      <td>1.0</td>\n",
       "      <td>0.0</td>\n",
       "      <td>...</td>\n",
       "      <td>0.0</td>\n",
       "      <td>0.0</td>\n",
       "      <td>1.0</td>\n",
       "      <td>0.0</td>\n",
       "      <td>0.0</td>\n",
       "      <td>0.0</td>\n",
       "      <td>1.0</td>\n",
       "      <td>0.0</td>\n",
       "      <td>0.0</td>\n",
       "      <td>0.0</td>\n",
       "    </tr>\n",
       "  </tbody>\n",
       "</table>\n",
       "<p>246022 rows × 74 columns</p>\n",
       "</div>"
      ],
      "text/plain": [
       "        GeneralHealth  PhysicalHealthDays  MentalHealthDays  \\\n",
       "0                0.75            0.133333          0.000000   \n",
       "1                0.75            0.000000          0.000000   \n",
       "2                0.75            0.000000          0.000000   \n",
       "3                0.25            0.166667          0.000000   \n",
       "4                0.50            0.100000          0.500000   \n",
       "...               ...                 ...               ...   \n",
       "246017           0.75            0.000000          0.000000   \n",
       "246018           0.25            0.000000          0.233333   \n",
       "246019           0.50            0.000000          0.500000   \n",
       "246020           1.00            0.066667          0.066667   \n",
       "246021           0.75            0.000000          0.000000   \n",
       "\n",
       "        PhysicalActivities  SleepHours  HadHeartAttack  HadAngina  HadStroke  \\\n",
       "0                      1.0    0.347826             0.0        0.0        0.0   \n",
       "1                      1.0    0.217391             0.0        0.0        0.0   \n",
       "2                      0.0    0.304348             0.0        0.0        0.0   \n",
       "3                      1.0    0.347826             0.0        0.0        0.0   \n",
       "4                      1.0    0.173913             0.0        0.0        0.0   \n",
       "...                    ...         ...             ...        ...        ...   \n",
       "246017                 1.0    0.217391             0.0        0.0        0.0   \n",
       "246018                 1.0    0.260870             0.0        0.0        0.0   \n",
       "246019                 1.0    0.260870             0.0        0.0        1.0   \n",
       "246020                 1.0    0.260870             0.0        0.0        0.0   \n",
       "246021                 0.0    0.173913             1.0        0.0        0.0   \n",
       "\n",
       "        HadAsthma  HadSkinCancer  ...  AgeCategory_Age 75 to 79  \\\n",
       "0             0.0            0.0  ...                       0.0   \n",
       "1             0.0            0.0  ...                       0.0   \n",
       "2             0.0            0.0  ...                       1.0   \n",
       "3             0.0            1.0  ...                       0.0   \n",
       "4             0.0            0.0  ...                       0.0   \n",
       "...           ...            ...  ...                       ...   \n",
       "246017        0.0            0.0  ...                       0.0   \n",
       "246018        0.0            0.0  ...                       0.0   \n",
       "246019        0.0            0.0  ...                       0.0   \n",
       "246020        0.0            0.0  ...                       0.0   \n",
       "246021        1.0            0.0  ...                       0.0   \n",
       "\n",
       "        AgeCategory_Age 80 or older  \\\n",
       "0                               0.0   \n",
       "1                               0.0   \n",
       "2                               0.0   \n",
       "3                               1.0   \n",
       "4                               1.0   \n",
       "...                             ...   \n",
       "246017                          0.0   \n",
       "246018                          0.0   \n",
       "246019                          0.0   \n",
       "246020                          0.0   \n",
       "246021                          0.0   \n",
       "\n",
       "        TetanusLast10Tdap_No, did not receive any tetanus shot in the past 10 years  \\\n",
       "0                                                     0.0                             \n",
       "1                                                     0.0                             \n",
       "2                                                     1.0                             \n",
       "3                                                     1.0                             \n",
       "4                                                     1.0                             \n",
       "...                                                   ...                             \n",
       "246017                                                0.0                             \n",
       "246018                                                1.0                             \n",
       "246019                                                0.0                             \n",
       "246020                                                0.0                             \n",
       "246021                                                1.0                             \n",
       "\n",
       "        TetanusLast10Tdap_Yes, received Tdap  \\\n",
       "0                                        1.0   \n",
       "1                                        0.0   \n",
       "2                                        0.0   \n",
       "3                                        0.0   \n",
       "4                                        0.0   \n",
       "...                                      ...   \n",
       "246017                                   0.0   \n",
       "246018                                   0.0   \n",
       "246019                                   0.0   \n",
       "246020                                   0.0   \n",
       "246021                                   0.0   \n",
       "\n",
       "        TetanusLast10Tdap_Yes, received tetanus shot but not sure what type  \\\n",
       "0                                                     0.0                     \n",
       "1                                                     1.0                     \n",
       "2                                                     0.0                     \n",
       "3                                                     0.0                     \n",
       "4                                                     0.0                     \n",
       "...                                                   ...                     \n",
       "246017                                                1.0                     \n",
       "246018                                                0.0                     \n",
       "246019                                                1.0                     \n",
       "246020                                                1.0                     \n",
       "246021                                                0.0                     \n",
       "\n",
       "        TetanusLast10Tdap_Yes, received tetanus shot, but not Tdap  \\\n",
       "0                                                     0.0            \n",
       "1                                                     0.0            \n",
       "2                                                     0.0            \n",
       "3                                                     0.0            \n",
       "4                                                     0.0            \n",
       "...                                                   ...            \n",
       "246017                                                0.0            \n",
       "246018                                                0.0            \n",
       "246019                                                0.0            \n",
       "246020                                                0.0            \n",
       "246021                                                0.0            \n",
       "\n",
       "        HadDiabetes_No  HadDiabetes_No, pre-diabetes or borderline diabetes  \\\n",
       "0                  1.0                                                0.0     \n",
       "1                  0.0                                                0.0     \n",
       "2                  1.0                                                0.0     \n",
       "3                  1.0                                                0.0     \n",
       "4                  1.0                                                0.0     \n",
       "...                ...                                                ...     \n",
       "246017             1.0                                                0.0     \n",
       "246018             1.0                                                0.0     \n",
       "246019             0.0                                                0.0     \n",
       "246020             1.0                                                0.0     \n",
       "246021             1.0                                                0.0     \n",
       "\n",
       "        HadDiabetes_Yes  HadDiabetes_Yes, but only during pregnancy (female)  \n",
       "0                   0.0                                                0.0    \n",
       "1                   1.0                                                0.0    \n",
       "2                   0.0                                                0.0    \n",
       "3                   0.0                                                0.0    \n",
       "4                   0.0                                                0.0    \n",
       "...                 ...                                                ...    \n",
       "246017              0.0                                                0.0    \n",
       "246018              0.0                                                0.0    \n",
       "246019              1.0                                                0.0    \n",
       "246020              0.0                                                0.0    \n",
       "246021              0.0                                                0.0    \n",
       "\n",
       "[246022 rows x 74 columns]"
      ]
     },
     "execution_count": 1,
     "metadata": {},
     "output_type": "execute_result"
    }
   ],
   "source": [
    "import pipeline\n",
    "import pandas as pd\n",
    "from sklearn.metrics import classification_report\n",
    "from imblearn.under_sampling import RandomUnderSampler\n",
    "data_cru = pd.read_parquet('heart_2022_no_nans.parquet')\n",
    "\n",
    "data = pipeline.pipelines(data_cru)\n",
    "X = data.create()\n",
    " \n",
    "\n",
    "reports = {}\n",
    "\n",
    "def add_model_report(reports, model_name, y_true, y_pred):\n",
    "    \"\"\" Adiciona o relatório de classificação ao dicionário de relatórios. \"\"\"\n",
    "    reports[model_name] = classification_report(y_true, y_pred, output_dict=True)\n",
    "\n",
    "data_cru = data_cru.drop(columns=['State'])\n",
    "\n",
    "dados_sem_estados = X.drop(columns=['State'])\n",
    "\n",
    "#quando for treinar os clusters é necessario que os dados estejam no formato de matriz. Ou seja, nao pode ser um dataframe\n",
    "\n",
    "dados_em_matriz=dados_sem_estados.values\n",
    "\n",
    "x = dados_sem_estados.drop('HadHeartAttack', axis=1)\n",
    "y = dados_sem_estados['HadHeartAttack']\n",
    "\n",
    "rus = RandomUnderSampler(random_state=42)\n",
    "\n",
    "dados_sem_estados"
   ]
  },
  {
   "cell_type": "code",
   "execution_count": 2,
   "metadata": {},
   "outputs": [],
   "source": [
    "from sklearn.linear_model import LogisticRegression\n",
    "from sklearn.neighbors import KNeighborsClassifier\n",
    "from sklearn.ensemble import RandomForestClassifier\n",
    "\n",
    "from sklearn.pipeline import Pipeline\n",
    "from sklearn.metrics import accuracy_score, precision_score, recall_score, f1_score, confusion_matrix\n",
    "from sklearn.model_selection import train_test_split\n",
    "import matplotlib.pyplot as plt\n",
    "import seaborn as sns\n",
    "from imblearn.over_sampling import SMOTE\n",
    "from sklearn.model_selection import cross_val_score\n",
    "from sklearn.feature_selection import SelectKBest , f_classif\n",
    "\n",
    "def metricas(x,y):\n",
    "    accuracy = accuracy_score(x, y)\n",
    "    print(f'Acurácia: {accuracy:.2f}')\n",
    "\n",
    "    # 2. Precisão\n",
    "    precision = precision_score(x, y)\n",
    "    print(f'Precisão: {precision:.2f}')\n",
    "\n",
    "    # 3. Revocação\n",
    "    recall = recall_score(x, y)\n",
    "    print(f'Revocação: {recall:.2f}')\n",
    "\n",
    "    # 4. F1 Score\n",
    "    f1 = f1_score(x, y)\n",
    "    print(f'F1 Score: {f1:.2f}')\n",
    "\n",
    "    # Exibindo a Matriz de Confusão para referência\n",
    "    cm = confusion_matrix(x, y)\n",
    "    print('Matriz de Confusão:')\n",
    "    print(cm)\n",
    "    return [accuracy,precision,recall,f1]\n",
    "\n",
    "x = dados_sem_estados.drop('HadHeartAttack', axis=1)\n",
    "y = dados_sem_estados['HadHeartAttack']\n",
    "\n",
    "X_train, X_test, y_train, y_test = train_test_split(x, y, test_size=0.3, random_state=42)\n",
    "\n",
    "x2, y2 = rus.fit_resample(X_train, y_train)\n",
    "\n",
    "\n",
    "smote = SMOTE(random_state=42)\n",
    "x3, y3 = smote.fit_resample(X_train, y_train)\n",
    "\n",
    "\n",
    "\n",
    "selector = SelectKBest(score_func=f_classif, k=10)\n",
    "X_train_best = selector.fit_transform(x2, y2)\n",
    "selected_features = x2.columns[selector.get_support()]\n",
    "\n",
    "xbest_train = x2[selected_features]\n",
    "xbest_test = X_test[selected_features]"
   ]
  },
  {
   "cell_type": "markdown",
   "metadata": {},
   "source": [
    "KNN - Modelo Normalizado"
   ]
  },
  {
   "cell_type": "code",
   "execution_count": 3,
   "metadata": {},
   "outputs": [],
   "source": [
    "model = KNeighborsClassifier(n_neighbors=17, weights='distance')\n",
    "\n",
    "# Treinar o modelo\n",
    "model.fit(X_train, y_train)\n",
    " \n",
    "# Fazer previsões\n",
    "y_pred = model.predict(X_test)\n",
    "modelo_base = add_model_report(reports,'dados base',y_test, y_pred)"
   ]
  },
  {
   "cell_type": "markdown",
   "metadata": {},
   "source": [
    "KNN - Modelo balanceado para baixo"
   ]
  },
  {
   "cell_type": "code",
   "execution_count": 4,
   "metadata": {},
   "outputs": [],
   "source": [
    "\n",
    "bestknn = KNeighborsClassifier(n_neighbors=17, weights='distance')\n",
    "\n",
    "# Treinar o modelo\n",
    "bestknn.fit(x2, y2)\n",
    " \n",
    "# Fazer previsões\n",
    "y_pred = bestknn.predict(X_test)\n",
    "modelo_balanceado_baixo = add_model_report(reports,'balanceamento para baixo',y_test, y_pred)"
   ]
  },
  {
   "cell_type": "markdown",
   "metadata": {},
   "source": [
    "KNN - Modelo balanceado para cima"
   ]
  },
  {
   "cell_type": "code",
   "execution_count": 5,
   "metadata": {},
   "outputs": [],
   "source": [
    "\n",
    "model = KNeighborsClassifier(n_neighbors=17, weights='distance')\n",
    "\n",
    "# Treinar o modelo\n",
    "model.fit(x3, y3)\n",
    " \n",
    "# Fazer previsões\n",
    "y_pred = model.predict(X_test)\n",
    "modelo_balanceado_cima = add_model_report(reports,'balanceamento para cima' ,y_test, y_pred)"
   ]
  },
  {
   "cell_type": "markdown",
   "metadata": {},
   "source": [
    "KNN -  Modelo balanceado com as 10 melhores features"
   ]
  },
  {
   "cell_type": "code",
   "execution_count": 6,
   "metadata": {},
   "outputs": [
    {
     "name": "stdout",
     "output_type": "stream",
     "text": [
      "-----------\n",
      "Acurácia: 0.81\n",
      "Precisão: 0.91\n",
      "Revocação: 0.70\n",
      "F1 Score: 0.79\n",
      "Matriz de Confusão:\n",
      "[[8805  632]\n",
      " [2862 6575]]\n"
     ]
    },
    {
     "data": {
      "text/plain": [
       "[0.81487760940977, 0.9123074788400166, 0.6967256543393028, 0.7900745013217977]"
      ]
     },
     "execution_count": 6,
     "metadata": {},
     "output_type": "execute_result"
    }
   ],
   "source": [
    "model = KNeighborsClassifier(n_neighbors=17, weights='distance')\n",
    "\n",
    "# Treinar o modelo\n",
    "model.fit(xbest_train, y2)\n",
    "\n",
    "# Fazer previsões\n",
    "y_pred = model.predict(xbest_test)\n",
    "\n",
    "y_pred_train = model.predict(xbest_train)\n",
    "\n",
    "dados_kbest = add_model_report(reports,'10 melhores features',y_test,y_pred)\n",
    "print('-----------')\n",
    "metricas(y2,y_pred_train)"
   ]
  },
  {
   "cell_type": "markdown",
   "metadata": {},
   "source": [
    "Plot da Tabela com os resultados"
   ]
  },
  {
   "cell_type": "code",
   "execution_count": 7,
   "metadata": {},
   "outputs": [
    {
     "data": {
      "application/vnd.plotly.v1+json": {
       "config": {
        "plotlyServerURL": "https://plot.ly"
       },
       "data": [
        {
         "cells": {
          "align": "left",
          "fill": {
           "color": "lavender"
          },
          "values": [
           [
            "dados base",
            "dados base",
            "dados base",
            "dados base",
            "dados base",
            "balanceamento para baixo",
            "balanceamento para baixo",
            "balanceamento para baixo",
            "balanceamento para baixo",
            "balanceamento para baixo",
            "balanceamento para cima",
            "balanceamento para cima",
            "balanceamento para cima",
            "balanceamento para cima",
            "balanceamento para cima",
            "10 melhores features",
            "10 melhores features",
            "10 melhores features",
            "10 melhores features",
            "10 melhores features"
           ],
           [
            "Accuracy",
            "0.0",
            "1.0",
            "macro avg",
            "weighted avg",
            "Accuracy",
            "0.0",
            "1.0",
            "macro avg",
            "weighted avg",
            "Accuracy",
            "0.0",
            "1.0",
            "macro avg",
            "weighted avg",
            "Accuracy",
            "0.0",
            "1.0",
            "macro avg",
            "weighted avg"
           ],
           [
            0.95,
            0.95,
            0.63,
            0.79,
            0.93,
            0.81,
            0.98,
            0.18,
            0.58,
            0.94,
            0.76,
            0.98,
            0.15,
            0.56,
            0.93,
            0.86,
            0.98,
            0.22,
            0.6,
            0.94
           ],
           [
            0.95,
            1,
            0.03,
            0.51,
            0.95,
            0.81,
            0.81,
            0.73,
            0.77,
            0.81,
            0.76,
            0.76,
            0.72,
            0.74,
            0.76,
            0.86,
            0.87,
            0.63,
            0.75,
            0.86
           ],
           [
            0.95,
            0.97,
            0.05,
            0.51,
            0.92,
            0.81,
            0.89,
            0.29,
            0.59,
            0.86,
            0.76,
            0.86,
            0.24,
            0.55,
            0.82,
            0.86,
            0.92,
            0.33,
            0.62,
            0.89
           ],
           [
            "",
            69809,
            3998,
            73807,
            73807,
            "",
            69809,
            3998,
            73807,
            73807,
            "",
            69809,
            3998,
            73807,
            73807,
            "",
            69809,
            3998,
            73807,
            73807
           ]
          ]
         },
         "header": {
          "align": "left",
          "fill": {
           "color": "paleturquoise"
          },
          "values": [
           "Model",
           "Class",
           "Precision",
           "Recall",
           "F1-Score",
           "Support"
          ]
         },
         "type": "table"
        }
       ],
       "layout": {
        "template": {
         "data": {
          "bar": [
           {
            "error_x": {
             "color": "#2a3f5f"
            },
            "error_y": {
             "color": "#2a3f5f"
            },
            "marker": {
             "line": {
              "color": "#E5ECF6",
              "width": 0.5
             },
             "pattern": {
              "fillmode": "overlay",
              "size": 10,
              "solidity": 0.2
             }
            },
            "type": "bar"
           }
          ],
          "barpolar": [
           {
            "marker": {
             "line": {
              "color": "#E5ECF6",
              "width": 0.5
             },
             "pattern": {
              "fillmode": "overlay",
              "size": 10,
              "solidity": 0.2
             }
            },
            "type": "barpolar"
           }
          ],
          "carpet": [
           {
            "aaxis": {
             "endlinecolor": "#2a3f5f",
             "gridcolor": "white",
             "linecolor": "white",
             "minorgridcolor": "white",
             "startlinecolor": "#2a3f5f"
            },
            "baxis": {
             "endlinecolor": "#2a3f5f",
             "gridcolor": "white",
             "linecolor": "white",
             "minorgridcolor": "white",
             "startlinecolor": "#2a3f5f"
            },
            "type": "carpet"
           }
          ],
          "choropleth": [
           {
            "colorbar": {
             "outlinewidth": 0,
             "ticks": ""
            },
            "type": "choropleth"
           }
          ],
          "contour": [
           {
            "colorbar": {
             "outlinewidth": 0,
             "ticks": ""
            },
            "colorscale": [
             [
              0,
              "#0d0887"
             ],
             [
              0.1111111111111111,
              "#46039f"
             ],
             [
              0.2222222222222222,
              "#7201a8"
             ],
             [
              0.3333333333333333,
              "#9c179e"
             ],
             [
              0.4444444444444444,
              "#bd3786"
             ],
             [
              0.5555555555555556,
              "#d8576b"
             ],
             [
              0.6666666666666666,
              "#ed7953"
             ],
             [
              0.7777777777777778,
              "#fb9f3a"
             ],
             [
              0.8888888888888888,
              "#fdca26"
             ],
             [
              1,
              "#f0f921"
             ]
            ],
            "type": "contour"
           }
          ],
          "contourcarpet": [
           {
            "colorbar": {
             "outlinewidth": 0,
             "ticks": ""
            },
            "type": "contourcarpet"
           }
          ],
          "heatmap": [
           {
            "colorbar": {
             "outlinewidth": 0,
             "ticks": ""
            },
            "colorscale": [
             [
              0,
              "#0d0887"
             ],
             [
              0.1111111111111111,
              "#46039f"
             ],
             [
              0.2222222222222222,
              "#7201a8"
             ],
             [
              0.3333333333333333,
              "#9c179e"
             ],
             [
              0.4444444444444444,
              "#bd3786"
             ],
             [
              0.5555555555555556,
              "#d8576b"
             ],
             [
              0.6666666666666666,
              "#ed7953"
             ],
             [
              0.7777777777777778,
              "#fb9f3a"
             ],
             [
              0.8888888888888888,
              "#fdca26"
             ],
             [
              1,
              "#f0f921"
             ]
            ],
            "type": "heatmap"
           }
          ],
          "heatmapgl": [
           {
            "colorbar": {
             "outlinewidth": 0,
             "ticks": ""
            },
            "colorscale": [
             [
              0,
              "#0d0887"
             ],
             [
              0.1111111111111111,
              "#46039f"
             ],
             [
              0.2222222222222222,
              "#7201a8"
             ],
             [
              0.3333333333333333,
              "#9c179e"
             ],
             [
              0.4444444444444444,
              "#bd3786"
             ],
             [
              0.5555555555555556,
              "#d8576b"
             ],
             [
              0.6666666666666666,
              "#ed7953"
             ],
             [
              0.7777777777777778,
              "#fb9f3a"
             ],
             [
              0.8888888888888888,
              "#fdca26"
             ],
             [
              1,
              "#f0f921"
             ]
            ],
            "type": "heatmapgl"
           }
          ],
          "histogram": [
           {
            "marker": {
             "pattern": {
              "fillmode": "overlay",
              "size": 10,
              "solidity": 0.2
             }
            },
            "type": "histogram"
           }
          ],
          "histogram2d": [
           {
            "colorbar": {
             "outlinewidth": 0,
             "ticks": ""
            },
            "colorscale": [
             [
              0,
              "#0d0887"
             ],
             [
              0.1111111111111111,
              "#46039f"
             ],
             [
              0.2222222222222222,
              "#7201a8"
             ],
             [
              0.3333333333333333,
              "#9c179e"
             ],
             [
              0.4444444444444444,
              "#bd3786"
             ],
             [
              0.5555555555555556,
              "#d8576b"
             ],
             [
              0.6666666666666666,
              "#ed7953"
             ],
             [
              0.7777777777777778,
              "#fb9f3a"
             ],
             [
              0.8888888888888888,
              "#fdca26"
             ],
             [
              1,
              "#f0f921"
             ]
            ],
            "type": "histogram2d"
           }
          ],
          "histogram2dcontour": [
           {
            "colorbar": {
             "outlinewidth": 0,
             "ticks": ""
            },
            "colorscale": [
             [
              0,
              "#0d0887"
             ],
             [
              0.1111111111111111,
              "#46039f"
             ],
             [
              0.2222222222222222,
              "#7201a8"
             ],
             [
              0.3333333333333333,
              "#9c179e"
             ],
             [
              0.4444444444444444,
              "#bd3786"
             ],
             [
              0.5555555555555556,
              "#d8576b"
             ],
             [
              0.6666666666666666,
              "#ed7953"
             ],
             [
              0.7777777777777778,
              "#fb9f3a"
             ],
             [
              0.8888888888888888,
              "#fdca26"
             ],
             [
              1,
              "#f0f921"
             ]
            ],
            "type": "histogram2dcontour"
           }
          ],
          "mesh3d": [
           {
            "colorbar": {
             "outlinewidth": 0,
             "ticks": ""
            },
            "type": "mesh3d"
           }
          ],
          "parcoords": [
           {
            "line": {
             "colorbar": {
              "outlinewidth": 0,
              "ticks": ""
             }
            },
            "type": "parcoords"
           }
          ],
          "pie": [
           {
            "automargin": true,
            "type": "pie"
           }
          ],
          "scatter": [
           {
            "fillpattern": {
             "fillmode": "overlay",
             "size": 10,
             "solidity": 0.2
            },
            "type": "scatter"
           }
          ],
          "scatter3d": [
           {
            "line": {
             "colorbar": {
              "outlinewidth": 0,
              "ticks": ""
             }
            },
            "marker": {
             "colorbar": {
              "outlinewidth": 0,
              "ticks": ""
             }
            },
            "type": "scatter3d"
           }
          ],
          "scattercarpet": [
           {
            "marker": {
             "colorbar": {
              "outlinewidth": 0,
              "ticks": ""
             }
            },
            "type": "scattercarpet"
           }
          ],
          "scattergeo": [
           {
            "marker": {
             "colorbar": {
              "outlinewidth": 0,
              "ticks": ""
             }
            },
            "type": "scattergeo"
           }
          ],
          "scattergl": [
           {
            "marker": {
             "colorbar": {
              "outlinewidth": 0,
              "ticks": ""
             }
            },
            "type": "scattergl"
           }
          ],
          "scattermapbox": [
           {
            "marker": {
             "colorbar": {
              "outlinewidth": 0,
              "ticks": ""
             }
            },
            "type": "scattermapbox"
           }
          ],
          "scatterpolar": [
           {
            "marker": {
             "colorbar": {
              "outlinewidth": 0,
              "ticks": ""
             }
            },
            "type": "scatterpolar"
           }
          ],
          "scatterpolargl": [
           {
            "marker": {
             "colorbar": {
              "outlinewidth": 0,
              "ticks": ""
             }
            },
            "type": "scatterpolargl"
           }
          ],
          "scatterternary": [
           {
            "marker": {
             "colorbar": {
              "outlinewidth": 0,
              "ticks": ""
             }
            },
            "type": "scatterternary"
           }
          ],
          "surface": [
           {
            "colorbar": {
             "outlinewidth": 0,
             "ticks": ""
            },
            "colorscale": [
             [
              0,
              "#0d0887"
             ],
             [
              0.1111111111111111,
              "#46039f"
             ],
             [
              0.2222222222222222,
              "#7201a8"
             ],
             [
              0.3333333333333333,
              "#9c179e"
             ],
             [
              0.4444444444444444,
              "#bd3786"
             ],
             [
              0.5555555555555556,
              "#d8576b"
             ],
             [
              0.6666666666666666,
              "#ed7953"
             ],
             [
              0.7777777777777778,
              "#fb9f3a"
             ],
             [
              0.8888888888888888,
              "#fdca26"
             ],
             [
              1,
              "#f0f921"
             ]
            ],
            "type": "surface"
           }
          ],
          "table": [
           {
            "cells": {
             "fill": {
              "color": "#EBF0F8"
             },
             "line": {
              "color": "white"
             }
            },
            "header": {
             "fill": {
              "color": "#C8D4E3"
             },
             "line": {
              "color": "white"
             }
            },
            "type": "table"
           }
          ]
         },
         "layout": {
          "annotationdefaults": {
           "arrowcolor": "#2a3f5f",
           "arrowhead": 0,
           "arrowwidth": 1
          },
          "autotypenumbers": "strict",
          "coloraxis": {
           "colorbar": {
            "outlinewidth": 0,
            "ticks": ""
           }
          },
          "colorscale": {
           "diverging": [
            [
             0,
             "#8e0152"
            ],
            [
             0.1,
             "#c51b7d"
            ],
            [
             0.2,
             "#de77ae"
            ],
            [
             0.3,
             "#f1b6da"
            ],
            [
             0.4,
             "#fde0ef"
            ],
            [
             0.5,
             "#f7f7f7"
            ],
            [
             0.6,
             "#e6f5d0"
            ],
            [
             0.7,
             "#b8e186"
            ],
            [
             0.8,
             "#7fbc41"
            ],
            [
             0.9,
             "#4d9221"
            ],
            [
             1,
             "#276419"
            ]
           ],
           "sequential": [
            [
             0,
             "#0d0887"
            ],
            [
             0.1111111111111111,
             "#46039f"
            ],
            [
             0.2222222222222222,
             "#7201a8"
            ],
            [
             0.3333333333333333,
             "#9c179e"
            ],
            [
             0.4444444444444444,
             "#bd3786"
            ],
            [
             0.5555555555555556,
             "#d8576b"
            ],
            [
             0.6666666666666666,
             "#ed7953"
            ],
            [
             0.7777777777777778,
             "#fb9f3a"
            ],
            [
             0.8888888888888888,
             "#fdca26"
            ],
            [
             1,
             "#f0f921"
            ]
           ],
           "sequentialminus": [
            [
             0,
             "#0d0887"
            ],
            [
             0.1111111111111111,
             "#46039f"
            ],
            [
             0.2222222222222222,
             "#7201a8"
            ],
            [
             0.3333333333333333,
             "#9c179e"
            ],
            [
             0.4444444444444444,
             "#bd3786"
            ],
            [
             0.5555555555555556,
             "#d8576b"
            ],
            [
             0.6666666666666666,
             "#ed7953"
            ],
            [
             0.7777777777777778,
             "#fb9f3a"
            ],
            [
             0.8888888888888888,
             "#fdca26"
            ],
            [
             1,
             "#f0f921"
            ]
           ]
          },
          "colorway": [
           "#636efa",
           "#EF553B",
           "#00cc96",
           "#ab63fa",
           "#FFA15A",
           "#19d3f3",
           "#FF6692",
           "#B6E880",
           "#FF97FF",
           "#FECB52"
          ],
          "font": {
           "color": "#2a3f5f"
          },
          "geo": {
           "bgcolor": "white",
           "lakecolor": "white",
           "landcolor": "#E5ECF6",
           "showlakes": true,
           "showland": true,
           "subunitcolor": "white"
          },
          "hoverlabel": {
           "align": "left"
          },
          "hovermode": "closest",
          "mapbox": {
           "style": "light"
          },
          "paper_bgcolor": "white",
          "plot_bgcolor": "#E5ECF6",
          "polar": {
           "angularaxis": {
            "gridcolor": "white",
            "linecolor": "white",
            "ticks": ""
           },
           "bgcolor": "#E5ECF6",
           "radialaxis": {
            "gridcolor": "white",
            "linecolor": "white",
            "ticks": ""
           }
          },
          "scene": {
           "xaxis": {
            "backgroundcolor": "#E5ECF6",
            "gridcolor": "white",
            "gridwidth": 2,
            "linecolor": "white",
            "showbackground": true,
            "ticks": "",
            "zerolinecolor": "white"
           },
           "yaxis": {
            "backgroundcolor": "#E5ECF6",
            "gridcolor": "white",
            "gridwidth": 2,
            "linecolor": "white",
            "showbackground": true,
            "ticks": "",
            "zerolinecolor": "white"
           },
           "zaxis": {
            "backgroundcolor": "#E5ECF6",
            "gridcolor": "white",
            "gridwidth": 2,
            "linecolor": "white",
            "showbackground": true,
            "ticks": "",
            "zerolinecolor": "white"
           }
          },
          "shapedefaults": {
           "line": {
            "color": "#2a3f5f"
           }
          },
          "ternary": {
           "aaxis": {
            "gridcolor": "white",
            "linecolor": "white",
            "ticks": ""
           },
           "baxis": {
            "gridcolor": "white",
            "linecolor": "white",
            "ticks": ""
           },
           "bgcolor": "#E5ECF6",
           "caxis": {
            "gridcolor": "white",
            "linecolor": "white",
            "ticks": ""
           }
          },
          "title": {
           "x": 0.05
          },
          "xaxis": {
           "automargin": true,
           "gridcolor": "white",
           "linecolor": "white",
           "ticks": "",
           "title": {
            "standoff": 15
           },
           "zerolinecolor": "white",
           "zerolinewidth": 2
          },
          "yaxis": {
           "automargin": true,
           "gridcolor": "white",
           "linecolor": "white",
           "ticks": "",
           "title": {
            "standoff": 15
           },
           "zerolinecolor": "white",
           "zerolinewidth": 2
          }
         }
        },
        "title": {
         "text": "Comparação dos Relatórios de Classificação dos Modelos"
        }
       }
      }
     },
     "metadata": {},
     "output_type": "display_data"
    }
   ],
   "source": [
    "import pandas as pd\n",
    "import plotly.graph_objects as go\n",
    "\n",
    "def generate_comparison_table(reports):\n",
    "    \"\"\" Gera uma tabela comparativa dos relatórios de classificação dos modelos. \"\"\"\n",
    "    data = []\n",
    "\n",
    "    for model_name, report in reports.items():\n",
    "        # Adiciona a acurácia\n",
    "        accuracy = round(report.get('accuracy', 0), 2)\n",
    "        data.append({'Model': model_name,\n",
    "                     'Class': 'Accuracy',\n",
    "                     'Precision': accuracy,\n",
    "                     'Recall': accuracy,\n",
    "                     'F1-Score': accuracy,\n",
    "                     'Support': ''})\n",
    "\n",
    "        # Adiciona uma linha para cada classe\n",
    "        for cls, metrics in report.items():\n",
    "            if cls == 'accuracy':\n",
    "                continue  # Ignora a linha de 'accuracy'\n",
    "            row = {'Model': model_name,\n",
    "                   'Class': cls,\n",
    "                   'Precision': round(metrics.get('precision', 0), 2),\n",
    "                   'Recall': round(metrics.get('recall', 0), 2),\n",
    "                   'F1-Score': round(metrics.get('f1-score', 0), 2),\n",
    "                   'Support': round(metrics.get('support', 0), 2)}\n",
    "            data.append(row)\n",
    "\n",
    "    df_all = pd.DataFrame(data)\n",
    "    return df_all\n",
    "\n",
    "# Gerar a tabela comparativa\n",
    "df_comparison = generate_comparison_table(reports)\n",
    "\n",
    "# Exibir a tabela com Plotly\n",
    "fig = go.Figure(data=[go.Table(\n",
    "    header=dict(values=list(df_comparison.columns),\n",
    "                fill_color='paleturquoise',\n",
    "                align='left'),\n",
    "    cells=dict(values=[df_comparison[col] for col in df_comparison.columns],\n",
    "               fill_color='lavender',\n",
    "               align='left'))\n",
    "])\n",
    "\n",
    "fig.update_layout(title=\"Comparação dos Relatórios de diferentes tipos de dados no KNN\")\n",
    "fig.show() \n"
   ]
  }
 ],
 "metadata": {
  "kernelspec": {
   "display_name": "Python 3",
   "language": "python",
   "name": "python3"
  },
  "language_info": {
   "codemirror_mode": {
    "name": "ipython",
    "version": 3
   },
   "file_extension": ".py",
   "mimetype": "text/x-python",
   "name": "python",
   "nbconvert_exporter": "python",
   "pygments_lexer": "ipython3",
   "version": "3.12.4"
  }
 },
 "nbformat": 4,
 "nbformat_minor": 2
}
