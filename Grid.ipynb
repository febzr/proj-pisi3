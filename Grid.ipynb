{
 "cells": [
  {
   "cell_type": "code",
   "execution_count": 40,
   "metadata": {},
   "outputs": [
    {
     "data": {
      "text/html": [
       "<div>\n",
       "<style scoped>\n",
       "    .dataframe tbody tr th:only-of-type {\n",
       "        vertical-align: middle;\n",
       "    }\n",
       "\n",
       "    .dataframe tbody tr th {\n",
       "        vertical-align: top;\n",
       "    }\n",
       "\n",
       "    .dataframe thead th {\n",
       "        text-align: right;\n",
       "    }\n",
       "</style>\n",
       "<table border=\"1\" class=\"dataframe\">\n",
       "  <thead>\n",
       "    <tr style=\"text-align: right;\">\n",
       "      <th></th>\n",
       "      <th>GeneralHealth</th>\n",
       "      <th>PhysicalHealthDays</th>\n",
       "      <th>MentalHealthDays</th>\n",
       "      <th>PhysicalActivities</th>\n",
       "      <th>SleepHours</th>\n",
       "      <th>HadHeartAttack</th>\n",
       "      <th>HadAngina</th>\n",
       "      <th>HadStroke</th>\n",
       "      <th>HadAsthma</th>\n",
       "      <th>HadSkinCancer</th>\n",
       "      <th>...</th>\n",
       "      <th>AgeCategory_Age 75 to 79</th>\n",
       "      <th>AgeCategory_Age 80 or older</th>\n",
       "      <th>TetanusLast10Tdap_No, did not receive any tetanus shot in the past 10 years</th>\n",
       "      <th>TetanusLast10Tdap_Yes, received Tdap</th>\n",
       "      <th>TetanusLast10Tdap_Yes, received tetanus shot but not sure what type</th>\n",
       "      <th>TetanusLast10Tdap_Yes, received tetanus shot, but not Tdap</th>\n",
       "      <th>HadDiabetes_No</th>\n",
       "      <th>HadDiabetes_No, pre-diabetes or borderline diabetes</th>\n",
       "      <th>HadDiabetes_Yes</th>\n",
       "      <th>HadDiabetes_Yes, but only during pregnancy (female)</th>\n",
       "    </tr>\n",
       "  </thead>\n",
       "  <tbody>\n",
       "    <tr>\n",
       "      <th>0</th>\n",
       "      <td>0.75</td>\n",
       "      <td>0.133333</td>\n",
       "      <td>0.000000</td>\n",
       "      <td>1.0</td>\n",
       "      <td>0.347826</td>\n",
       "      <td>0.0</td>\n",
       "      <td>0.0</td>\n",
       "      <td>0.0</td>\n",
       "      <td>0.0</td>\n",
       "      <td>0.0</td>\n",
       "      <td>...</td>\n",
       "      <td>0.0</td>\n",
       "      <td>0.0</td>\n",
       "      <td>0.0</td>\n",
       "      <td>1.0</td>\n",
       "      <td>0.0</td>\n",
       "      <td>0.0</td>\n",
       "      <td>1.0</td>\n",
       "      <td>0.0</td>\n",
       "      <td>0.0</td>\n",
       "      <td>0.0</td>\n",
       "    </tr>\n",
       "    <tr>\n",
       "      <th>1</th>\n",
       "      <td>0.75</td>\n",
       "      <td>0.000000</td>\n",
       "      <td>0.000000</td>\n",
       "      <td>1.0</td>\n",
       "      <td>0.217391</td>\n",
       "      <td>0.0</td>\n",
       "      <td>0.0</td>\n",
       "      <td>0.0</td>\n",
       "      <td>0.0</td>\n",
       "      <td>0.0</td>\n",
       "      <td>...</td>\n",
       "      <td>0.0</td>\n",
       "      <td>0.0</td>\n",
       "      <td>0.0</td>\n",
       "      <td>0.0</td>\n",
       "      <td>1.0</td>\n",
       "      <td>0.0</td>\n",
       "      <td>0.0</td>\n",
       "      <td>0.0</td>\n",
       "      <td>1.0</td>\n",
       "      <td>0.0</td>\n",
       "    </tr>\n",
       "    <tr>\n",
       "      <th>2</th>\n",
       "      <td>0.75</td>\n",
       "      <td>0.000000</td>\n",
       "      <td>0.000000</td>\n",
       "      <td>0.0</td>\n",
       "      <td>0.304348</td>\n",
       "      <td>0.0</td>\n",
       "      <td>0.0</td>\n",
       "      <td>0.0</td>\n",
       "      <td>0.0</td>\n",
       "      <td>0.0</td>\n",
       "      <td>...</td>\n",
       "      <td>1.0</td>\n",
       "      <td>0.0</td>\n",
       "      <td>1.0</td>\n",
       "      <td>0.0</td>\n",
       "      <td>0.0</td>\n",
       "      <td>0.0</td>\n",
       "      <td>1.0</td>\n",
       "      <td>0.0</td>\n",
       "      <td>0.0</td>\n",
       "      <td>0.0</td>\n",
       "    </tr>\n",
       "    <tr>\n",
       "      <th>3</th>\n",
       "      <td>0.25</td>\n",
       "      <td>0.166667</td>\n",
       "      <td>0.000000</td>\n",
       "      <td>1.0</td>\n",
       "      <td>0.347826</td>\n",
       "      <td>0.0</td>\n",
       "      <td>0.0</td>\n",
       "      <td>0.0</td>\n",
       "      <td>0.0</td>\n",
       "      <td>1.0</td>\n",
       "      <td>...</td>\n",
       "      <td>0.0</td>\n",
       "      <td>1.0</td>\n",
       "      <td>1.0</td>\n",
       "      <td>0.0</td>\n",
       "      <td>0.0</td>\n",
       "      <td>0.0</td>\n",
       "      <td>1.0</td>\n",
       "      <td>0.0</td>\n",
       "      <td>0.0</td>\n",
       "      <td>0.0</td>\n",
       "    </tr>\n",
       "    <tr>\n",
       "      <th>4</th>\n",
       "      <td>0.50</td>\n",
       "      <td>0.100000</td>\n",
       "      <td>0.500000</td>\n",
       "      <td>1.0</td>\n",
       "      <td>0.173913</td>\n",
       "      <td>0.0</td>\n",
       "      <td>0.0</td>\n",
       "      <td>0.0</td>\n",
       "      <td>0.0</td>\n",
       "      <td>0.0</td>\n",
       "      <td>...</td>\n",
       "      <td>0.0</td>\n",
       "      <td>1.0</td>\n",
       "      <td>1.0</td>\n",
       "      <td>0.0</td>\n",
       "      <td>0.0</td>\n",
       "      <td>0.0</td>\n",
       "      <td>1.0</td>\n",
       "      <td>0.0</td>\n",
       "      <td>0.0</td>\n",
       "      <td>0.0</td>\n",
       "    </tr>\n",
       "    <tr>\n",
       "      <th>...</th>\n",
       "      <td>...</td>\n",
       "      <td>...</td>\n",
       "      <td>...</td>\n",
       "      <td>...</td>\n",
       "      <td>...</td>\n",
       "      <td>...</td>\n",
       "      <td>...</td>\n",
       "      <td>...</td>\n",
       "      <td>...</td>\n",
       "      <td>...</td>\n",
       "      <td>...</td>\n",
       "      <td>...</td>\n",
       "      <td>...</td>\n",
       "      <td>...</td>\n",
       "      <td>...</td>\n",
       "      <td>...</td>\n",
       "      <td>...</td>\n",
       "      <td>...</td>\n",
       "      <td>...</td>\n",
       "      <td>...</td>\n",
       "      <td>...</td>\n",
       "    </tr>\n",
       "    <tr>\n",
       "      <th>246017</th>\n",
       "      <td>0.75</td>\n",
       "      <td>0.000000</td>\n",
       "      <td>0.000000</td>\n",
       "      <td>1.0</td>\n",
       "      <td>0.217391</td>\n",
       "      <td>0.0</td>\n",
       "      <td>0.0</td>\n",
       "      <td>0.0</td>\n",
       "      <td>0.0</td>\n",
       "      <td>0.0</td>\n",
       "      <td>...</td>\n",
       "      <td>0.0</td>\n",
       "      <td>0.0</td>\n",
       "      <td>0.0</td>\n",
       "      <td>0.0</td>\n",
       "      <td>1.0</td>\n",
       "      <td>0.0</td>\n",
       "      <td>1.0</td>\n",
       "      <td>0.0</td>\n",
       "      <td>0.0</td>\n",
       "      <td>0.0</td>\n",
       "    </tr>\n",
       "    <tr>\n",
       "      <th>246018</th>\n",
       "      <td>0.25</td>\n",
       "      <td>0.000000</td>\n",
       "      <td>0.233333</td>\n",
       "      <td>1.0</td>\n",
       "      <td>0.260870</td>\n",
       "      <td>0.0</td>\n",
       "      <td>0.0</td>\n",
       "      <td>0.0</td>\n",
       "      <td>0.0</td>\n",
       "      <td>0.0</td>\n",
       "      <td>...</td>\n",
       "      <td>0.0</td>\n",
       "      <td>0.0</td>\n",
       "      <td>1.0</td>\n",
       "      <td>0.0</td>\n",
       "      <td>0.0</td>\n",
       "      <td>0.0</td>\n",
       "      <td>1.0</td>\n",
       "      <td>0.0</td>\n",
       "      <td>0.0</td>\n",
       "      <td>0.0</td>\n",
       "    </tr>\n",
       "    <tr>\n",
       "      <th>246019</th>\n",
       "      <td>0.50</td>\n",
       "      <td>0.000000</td>\n",
       "      <td>0.500000</td>\n",
       "      <td>1.0</td>\n",
       "      <td>0.260870</td>\n",
       "      <td>0.0</td>\n",
       "      <td>0.0</td>\n",
       "      <td>1.0</td>\n",
       "      <td>0.0</td>\n",
       "      <td>0.0</td>\n",
       "      <td>...</td>\n",
       "      <td>0.0</td>\n",
       "      <td>0.0</td>\n",
       "      <td>0.0</td>\n",
       "      <td>0.0</td>\n",
       "      <td>1.0</td>\n",
       "      <td>0.0</td>\n",
       "      <td>0.0</td>\n",
       "      <td>0.0</td>\n",
       "      <td>1.0</td>\n",
       "      <td>0.0</td>\n",
       "    </tr>\n",
       "    <tr>\n",
       "      <th>246020</th>\n",
       "      <td>1.00</td>\n",
       "      <td>0.066667</td>\n",
       "      <td>0.066667</td>\n",
       "      <td>1.0</td>\n",
       "      <td>0.260870</td>\n",
       "      <td>0.0</td>\n",
       "      <td>0.0</td>\n",
       "      <td>0.0</td>\n",
       "      <td>0.0</td>\n",
       "      <td>0.0</td>\n",
       "      <td>...</td>\n",
       "      <td>0.0</td>\n",
       "      <td>0.0</td>\n",
       "      <td>0.0</td>\n",
       "      <td>0.0</td>\n",
       "      <td>1.0</td>\n",
       "      <td>0.0</td>\n",
       "      <td>1.0</td>\n",
       "      <td>0.0</td>\n",
       "      <td>0.0</td>\n",
       "      <td>0.0</td>\n",
       "    </tr>\n",
       "    <tr>\n",
       "      <th>246021</th>\n",
       "      <td>0.75</td>\n",
       "      <td>0.000000</td>\n",
       "      <td>0.000000</td>\n",
       "      <td>0.0</td>\n",
       "      <td>0.173913</td>\n",
       "      <td>1.0</td>\n",
       "      <td>0.0</td>\n",
       "      <td>0.0</td>\n",
       "      <td>1.0</td>\n",
       "      <td>0.0</td>\n",
       "      <td>...</td>\n",
       "      <td>0.0</td>\n",
       "      <td>0.0</td>\n",
       "      <td>1.0</td>\n",
       "      <td>0.0</td>\n",
       "      <td>0.0</td>\n",
       "      <td>0.0</td>\n",
       "      <td>1.0</td>\n",
       "      <td>0.0</td>\n",
       "      <td>0.0</td>\n",
       "      <td>0.0</td>\n",
       "    </tr>\n",
       "  </tbody>\n",
       "</table>\n",
       "<p>246022 rows × 74 columns</p>\n",
       "</div>"
      ],
      "text/plain": [
       "        GeneralHealth  PhysicalHealthDays  MentalHealthDays  \\\n",
       "0                0.75            0.133333          0.000000   \n",
       "1                0.75            0.000000          0.000000   \n",
       "2                0.75            0.000000          0.000000   \n",
       "3                0.25            0.166667          0.000000   \n",
       "4                0.50            0.100000          0.500000   \n",
       "...               ...                 ...               ...   \n",
       "246017           0.75            0.000000          0.000000   \n",
       "246018           0.25            0.000000          0.233333   \n",
       "246019           0.50            0.000000          0.500000   \n",
       "246020           1.00            0.066667          0.066667   \n",
       "246021           0.75            0.000000          0.000000   \n",
       "\n",
       "        PhysicalActivities  SleepHours  HadHeartAttack  HadAngina  HadStroke  \\\n",
       "0                      1.0    0.347826             0.0        0.0        0.0   \n",
       "1                      1.0    0.217391             0.0        0.0        0.0   \n",
       "2                      0.0    0.304348             0.0        0.0        0.0   \n",
       "3                      1.0    0.347826             0.0        0.0        0.0   \n",
       "4                      1.0    0.173913             0.0        0.0        0.0   \n",
       "...                    ...         ...             ...        ...        ...   \n",
       "246017                 1.0    0.217391             0.0        0.0        0.0   \n",
       "246018                 1.0    0.260870             0.0        0.0        0.0   \n",
       "246019                 1.0    0.260870             0.0        0.0        1.0   \n",
       "246020                 1.0    0.260870             0.0        0.0        0.0   \n",
       "246021                 0.0    0.173913             1.0        0.0        0.0   \n",
       "\n",
       "        HadAsthma  HadSkinCancer  ...  AgeCategory_Age 75 to 79  \\\n",
       "0             0.0            0.0  ...                       0.0   \n",
       "1             0.0            0.0  ...                       0.0   \n",
       "2             0.0            0.0  ...                       1.0   \n",
       "3             0.0            1.0  ...                       0.0   \n",
       "4             0.0            0.0  ...                       0.0   \n",
       "...           ...            ...  ...                       ...   \n",
       "246017        0.0            0.0  ...                       0.0   \n",
       "246018        0.0            0.0  ...                       0.0   \n",
       "246019        0.0            0.0  ...                       0.0   \n",
       "246020        0.0            0.0  ...                       0.0   \n",
       "246021        1.0            0.0  ...                       0.0   \n",
       "\n",
       "        AgeCategory_Age 80 or older  \\\n",
       "0                               0.0   \n",
       "1                               0.0   \n",
       "2                               0.0   \n",
       "3                               1.0   \n",
       "4                               1.0   \n",
       "...                             ...   \n",
       "246017                          0.0   \n",
       "246018                          0.0   \n",
       "246019                          0.0   \n",
       "246020                          0.0   \n",
       "246021                          0.0   \n",
       "\n",
       "        TetanusLast10Tdap_No, did not receive any tetanus shot in the past 10 years  \\\n",
       "0                                                     0.0                             \n",
       "1                                                     0.0                             \n",
       "2                                                     1.0                             \n",
       "3                                                     1.0                             \n",
       "4                                                     1.0                             \n",
       "...                                                   ...                             \n",
       "246017                                                0.0                             \n",
       "246018                                                1.0                             \n",
       "246019                                                0.0                             \n",
       "246020                                                0.0                             \n",
       "246021                                                1.0                             \n",
       "\n",
       "        TetanusLast10Tdap_Yes, received Tdap  \\\n",
       "0                                        1.0   \n",
       "1                                        0.0   \n",
       "2                                        0.0   \n",
       "3                                        0.0   \n",
       "4                                        0.0   \n",
       "...                                      ...   \n",
       "246017                                   0.0   \n",
       "246018                                   0.0   \n",
       "246019                                   0.0   \n",
       "246020                                   0.0   \n",
       "246021                                   0.0   \n",
       "\n",
       "        TetanusLast10Tdap_Yes, received tetanus shot but not sure what type  \\\n",
       "0                                                     0.0                     \n",
       "1                                                     1.0                     \n",
       "2                                                     0.0                     \n",
       "3                                                     0.0                     \n",
       "4                                                     0.0                     \n",
       "...                                                   ...                     \n",
       "246017                                                1.0                     \n",
       "246018                                                0.0                     \n",
       "246019                                                1.0                     \n",
       "246020                                                1.0                     \n",
       "246021                                                0.0                     \n",
       "\n",
       "        TetanusLast10Tdap_Yes, received tetanus shot, but not Tdap  \\\n",
       "0                                                     0.0            \n",
       "1                                                     0.0            \n",
       "2                                                     0.0            \n",
       "3                                                     0.0            \n",
       "4                                                     0.0            \n",
       "...                                                   ...            \n",
       "246017                                                0.0            \n",
       "246018                                                0.0            \n",
       "246019                                                0.0            \n",
       "246020                                                0.0            \n",
       "246021                                                0.0            \n",
       "\n",
       "        HadDiabetes_No  HadDiabetes_No, pre-diabetes or borderline diabetes  \\\n",
       "0                  1.0                                                0.0     \n",
       "1                  0.0                                                0.0     \n",
       "2                  1.0                                                0.0     \n",
       "3                  1.0                                                0.0     \n",
       "4                  1.0                                                0.0     \n",
       "...                ...                                                ...     \n",
       "246017             1.0                                                0.0     \n",
       "246018             1.0                                                0.0     \n",
       "246019             0.0                                                0.0     \n",
       "246020             1.0                                                0.0     \n",
       "246021             1.0                                                0.0     \n",
       "\n",
       "        HadDiabetes_Yes  HadDiabetes_Yes, but only during pregnancy (female)  \n",
       "0                   0.0                                                0.0    \n",
       "1                   1.0                                                0.0    \n",
       "2                   0.0                                                0.0    \n",
       "3                   0.0                                                0.0    \n",
       "4                   0.0                                                0.0    \n",
       "...                 ...                                                ...    \n",
       "246017              0.0                                                0.0    \n",
       "246018              0.0                                                0.0    \n",
       "246019              1.0                                                0.0    \n",
       "246020              0.0                                                0.0    \n",
       "246021              0.0                                                0.0    \n",
       "\n",
       "[246022 rows x 74 columns]"
      ]
     },
     "execution_count": 40,
     "metadata": {},
     "output_type": "execute_result"
    }
   ],
   "source": [
    "import pipeline\n",
    "import pandas as pd\n",
    "from sklearn.metrics import classification_report\n",
    "from imblearn.under_sampling import RandomUnderSampler\n",
    "data_cru = pd.read_parquet('heart_2022_no_nans.parquet')\n",
    "\n",
    "data = pipeline.pipelines(data_cru)\n",
    "X = data.create()\n",
    "\n",
    "\n",
    "reportstest = {}\n",
    "reportstreino = {}\n",
    "\n",
    "def add_model_report(reports, model_name, y_true, y_pred):\n",
    "    \"\"\" Adiciona o relatório de classificação ao dicionário de relatórios. \"\"\"\n",
    "    reports[model_name] = classification_report(y_true, y_pred, output_dict=True)\n",
    "\n",
    "data_cru = data_cru.drop(columns=['State'])\n",
    "\n",
    "dados_sem_estados = X.drop(columns=['State'])\n",
    "\n",
    "#quando for treinar os clusters é necessario que os dados estejam no formato de matriz. Ou seja, nao pode ser um dataframe\n",
    "\n",
    "dados_em_matriz=dados_sem_estados.values\n",
    "\n",
    "x = dados_sem_estados.drop('HadHeartAttack', axis=1)\n",
    "y = dados_sem_estados['HadHeartAttack']\n",
    "\n",
    "rus = RandomUnderSampler(random_state=42)\n",
    "\n",
    "dados_sem_estados"
   ]
  },
  {
   "cell_type": "code",
   "execution_count": 41,
   "metadata": {},
   "outputs": [],
   "source": [
    "from sklearn.linear_model import LogisticRegression\n",
    "from sklearn.neighbors import KNeighborsClassifier\n",
    "from sklearn.ensemble import RandomForestClassifier\n",
    "from catboost import CatBoostClassifier\n",
    "from sklearn.pipeline import Pipeline\n",
    "from sklearn.metrics import accuracy_score, precision_score, recall_score, f1_score, confusion_matrix\n",
    "from sklearn.model_selection import train_test_split\n",
    "import matplotlib.pyplot as plt\n",
    "import seaborn as sns\n",
    "from imblearn.over_sampling import SMOTE\n",
    "from sklearn.model_selection import cross_val_score\n",
    "from sklearn.feature_selection import SelectKBest , f_classif\n",
    "\n",
    "def metricas(x,y):\n",
    "    accuracy = accuracy_score(x, y)\n",
    "    print(f'Acurácia: {accuracy:.2f}')\n",
    "\n",
    "    # 2. Precisão\n",
    "    precision = precision_score(x, y,average='macro')\n",
    "    print(f'Precisão: {precision:.2f}')\n",
    "\n",
    "    # 3. Revocação\n",
    "    recall = recall_score(x, y,average='macro')\n",
    "    print(f'Revocação: {recall:.2f}')\n",
    "\n",
    "    # 4. F1 Score\n",
    "    f1 = f1_score(x, y,average='macro')\n",
    "    print(f'F1 Score: {f1:.2f}')\n",
    "\n",
    "    # Exibindo a Matriz de Confusão para referência\n",
    "    cm = confusion_matrix(x, y)\n",
    "    print('Matriz de Confusão:')\n",
    "    print(cm)\n",
    "    return [accuracy,precision,recall,f1]\n",
    "\n",
    "x = dados_sem_estados.drop('HadHeartAttack', axis=1)\n",
    "y = dados_sem_estados['HadHeartAttack']\n",
    "\n",
    "X_train, X_test, y_train, y_test = train_test_split(x, y, test_size=0.3, random_state=42)\n",
    "\n",
    "x2, y2 = rus.fit_resample(X_train, y_train)\n",
    "\n",
    "\n",
    "smote = SMOTE(random_state=42)\n",
    "x3, y3 = smote.fit_resample(X_train, y_train)\n",
    "\n",
    "\n",
    "\n",
    "selector = SelectKBest(score_func=f_classif, k=10)\n",
    "X_train_best = selector.fit_transform(x2, y2)\n",
    "selected_features = x2.columns[selector.get_support()]\n",
    "\n",
    "xbest_train = x2[selected_features]\n",
    "xbest_test = X_test[selected_features]"
   ]
  },
  {
   "cell_type": "code",
   "execution_count": 42,
   "metadata": {},
   "outputs": [
    {
     "name": "stderr",
     "output_type": "stream",
     "text": [
      "c:\\Users\\yagod\\AppData\\Local\\Programs\\Python\\Python312\\Lib\\site-packages\\sklearn\\model_selection\\_validation.py:540: FitFailedWarning:\n",
      "\n",
      "\n",
      "48 fits failed out of a total of 144.\n",
      "The score on these train-test partitions for these parameters will be set to nan.\n",
      "If these failures are not expected, you can try to debug them by setting error_score='raise'.\n",
      "\n",
      "Below are more details about the failures:\n",
      "--------------------------------------------------------------------------------\n",
      "9 fits failed with the following error:\n",
      "Traceback (most recent call last):\n",
      "  File \"c:\\Users\\yagod\\AppData\\Local\\Programs\\Python\\Python312\\Lib\\site-packages\\sklearn\\model_selection\\_validation.py\", line 888, in _fit_and_score\n",
      "    estimator.fit(X_train, y_train, **fit_params)\n",
      "  File \"c:\\Users\\yagod\\AppData\\Local\\Programs\\Python\\Python312\\Lib\\site-packages\\sklearn\\base.py\", line 1473, in wrapper\n",
      "    return fit_method(estimator, *args, **kwargs)\n",
      "           ^^^^^^^^^^^^^^^^^^^^^^^^^^^^^^^^^^^^^^\n",
      "  File \"c:\\Users\\yagod\\AppData\\Local\\Programs\\Python\\Python312\\Lib\\site-packages\\sklearn\\pipeline.py\", line 473, in fit\n",
      "    self._final_estimator.fit(Xt, y, **last_step_params[\"fit\"])\n",
      "  File \"c:\\Users\\yagod\\AppData\\Local\\Programs\\Python\\Python312\\Lib\\site-packages\\sklearn\\base.py\", line 1466, in wrapper\n",
      "    estimator._validate_params()\n",
      "  File \"c:\\Users\\yagod\\AppData\\Local\\Programs\\Python\\Python312\\Lib\\site-packages\\sklearn\\base.py\", line 666, in _validate_params\n",
      "    validate_parameter_constraints(\n",
      "  File \"c:\\Users\\yagod\\AppData\\Local\\Programs\\Python\\Python312\\Lib\\site-packages\\sklearn\\utils\\_param_validation.py\", line 95, in validate_parameter_constraints\n",
      "    raise InvalidParameterError(\n",
      "sklearn.utils._param_validation.InvalidParameterError: The 'max_features' parameter of RandomForestClassifier must be an int in the range [1, inf), a float in the range (0.0, 1.0], a str among {'log2', 'sqrt'} or None. Got 'auto' instead.\n",
      "\n",
      "--------------------------------------------------------------------------------\n",
      "39 fits failed with the following error:\n",
      "Traceback (most recent call last):\n",
      "  File \"c:\\Users\\yagod\\AppData\\Local\\Programs\\Python\\Python312\\Lib\\site-packages\\sklearn\\model_selection\\_validation.py\", line 888, in _fit_and_score\n",
      "    estimator.fit(X_train, y_train, **fit_params)\n",
      "  File \"c:\\Users\\yagod\\AppData\\Local\\Programs\\Python\\Python312\\Lib\\site-packages\\sklearn\\base.py\", line 1473, in wrapper\n",
      "    return fit_method(estimator, *args, **kwargs)\n",
      "           ^^^^^^^^^^^^^^^^^^^^^^^^^^^^^^^^^^^^^^\n",
      "  File \"c:\\Users\\yagod\\AppData\\Local\\Programs\\Python\\Python312\\Lib\\site-packages\\sklearn\\pipeline.py\", line 473, in fit\n",
      "    self._final_estimator.fit(Xt, y, **last_step_params[\"fit\"])\n",
      "  File \"c:\\Users\\yagod\\AppData\\Local\\Programs\\Python\\Python312\\Lib\\site-packages\\sklearn\\base.py\", line 1466, in wrapper\n",
      "    estimator._validate_params()\n",
      "  File \"c:\\Users\\yagod\\AppData\\Local\\Programs\\Python\\Python312\\Lib\\site-packages\\sklearn\\base.py\", line 666, in _validate_params\n",
      "    validate_parameter_constraints(\n",
      "  File \"c:\\Users\\yagod\\AppData\\Local\\Programs\\Python\\Python312\\Lib\\site-packages\\sklearn\\utils\\_param_validation.py\", line 95, in validate_parameter_constraints\n",
      "    raise InvalidParameterError(\n",
      "sklearn.utils._param_validation.InvalidParameterError: The 'max_features' parameter of RandomForestClassifier must be an int in the range [1, inf), a float in the range (0.0, 1.0], a str among {'sqrt', 'log2'} or None. Got 'auto' instead.\n",
      "\n",
      "\n",
      "c:\\Users\\yagod\\AppData\\Local\\Programs\\Python\\Python312\\Lib\\site-packages\\sklearn\\model_selection\\_search.py:1102: UserWarning:\n",
      "\n",
      "One or more of the test scores are non-finite: [       nan        nan        nan        nan 0.97222898 0.97206732\n",
      " 0.97210563 0.9720441  0.97326472 0.97315814 0.97345306 0.97338224\n",
      "        nan        nan        nan        nan 0.92592429 0.9270959\n",
      " 0.92945321 0.9295426  0.91950525 0.92031462 0.92192132 0.92208969\n",
      "        nan        nan        nan        nan 0.9594236  0.96039455\n",
      " 0.96116886 0.96097538 0.95563077 0.95673743 0.95811813 0.95791475\n",
      "        nan        nan        nan        nan 0.96885952 0.96915492\n",
      " 0.96937385 0.96934942 0.9686269  0.96936792 0.96954653 0.96959263]\n",
      "\n"
     ]
    }
   ],
   "source": [
    "from sklearn.model_selection import GridSearchCV\n",
    "\n",
    "pipelinerf = Pipeline([\n",
    "    ('classifier', RandomForestClassifier(random_state=42))\n",
    "])\n",
    "\n",
    "param_grid = {\n",
    "    'classifier__n_estimators': [50, 100, 500,1000],\n",
    "    'classifier__max_depth': [None, 10, 15,20],\n",
    "    'classifier__max_features': ['auto', 'sqrt', 'log2'], \n",
    "}\n",
    " \n",
    "# Grid Search com validação cruzada\n",
    "grid_search = GridSearchCV(pipelinerf, param_grid, cv=3, scoring='f1_macro', n_jobs=-1)\n",
    "grid_search.fit(x3, y3)\n",
    "\n",
    "# Melhor modelo\n",
    "best_model = grid_search.best_estimator_\n"
   ]
  },
  {
   "cell_type": "code",
   "execution_count": 43,
   "metadata": {},
   "outputs": [],
   "source": [
    "y_pred = best_model.predict(X_test)\n",
    "\n",
    "y_pred_treino = best_model.predict(x3)\n",
    "\n",
    "add_model_report(reportstreino,'random forest',y3, y_pred_treino)\n",
    "\n",
    "\n",
    "add_model_report(reportstest,'random forest',y_test, y_pred)\n",
    "\n"
   ]
  },
  {
   "cell_type": "code",
   "execution_count": 44,
   "metadata": {},
   "outputs": [
    {
     "name": "stderr",
     "output_type": "stream",
     "text": [
      "c:\\Users\\yagod\\AppData\\Local\\Programs\\Python\\Python312\\Lib\\site-packages\\sklearn\\model_selection\\_validation.py:540: FitFailedWarning:\n",
      "\n",
      "\n",
      "1080 fits failed out of a total of 2592.\n",
      "The score on these train-test partitions for these parameters will be set to nan.\n",
      "If these failures are not expected, you can try to debug them by setting error_score='raise'.\n",
      "\n",
      "Below are more details about the failures:\n",
      "--------------------------------------------------------------------------------\n",
      "216 fits failed with the following error:\n",
      "Traceback (most recent call last):\n",
      "  File \"c:\\Users\\yagod\\AppData\\Local\\Programs\\Python\\Python312\\Lib\\site-packages\\sklearn\\model_selection\\_validation.py\", line 888, in _fit_and_score\n",
      "    estimator.fit(X_train, y_train, **fit_params)\n",
      "  File \"c:\\Users\\yagod\\AppData\\Local\\Programs\\Python\\Python312\\Lib\\site-packages\\sklearn\\base.py\", line 1473, in wrapper\n",
      "    return fit_method(estimator, *args, **kwargs)\n",
      "           ^^^^^^^^^^^^^^^^^^^^^^^^^^^^^^^^^^^^^^\n",
      "  File \"c:\\Users\\yagod\\AppData\\Local\\Programs\\Python\\Python312\\Lib\\site-packages\\sklearn\\linear_model\\_logistic.py\", line 1194, in fit\n",
      "    solver = _check_solver(self.solver, self.penalty, self.dual)\n",
      "             ^^^^^^^^^^^^^^^^^^^^^^^^^^^^^^^^^^^^^^^^^^^^^^^^^^^\n",
      "  File \"c:\\Users\\yagod\\AppData\\Local\\Programs\\Python\\Python312\\Lib\\site-packages\\sklearn\\linear_model\\_logistic.py\", line 67, in _check_solver\n",
      "    raise ValueError(\n",
      "ValueError: Solver newton-cg supports only 'l2' or None penalties, got l1 penalty.\n",
      "\n",
      "--------------------------------------------------------------------------------\n",
      "216 fits failed with the following error:\n",
      "Traceback (most recent call last):\n",
      "  File \"c:\\Users\\yagod\\AppData\\Local\\Programs\\Python\\Python312\\Lib\\site-packages\\sklearn\\model_selection\\_validation.py\", line 888, in _fit_and_score\n",
      "    estimator.fit(X_train, y_train, **fit_params)\n",
      "  File \"c:\\Users\\yagod\\AppData\\Local\\Programs\\Python\\Python312\\Lib\\site-packages\\sklearn\\base.py\", line 1473, in wrapper\n",
      "    return fit_method(estimator, *args, **kwargs)\n",
      "           ^^^^^^^^^^^^^^^^^^^^^^^^^^^^^^^^^^^^^^\n",
      "  File \"c:\\Users\\yagod\\AppData\\Local\\Programs\\Python\\Python312\\Lib\\site-packages\\sklearn\\linear_model\\_logistic.py\", line 1194, in fit\n",
      "    solver = _check_solver(self.solver, self.penalty, self.dual)\n",
      "             ^^^^^^^^^^^^^^^^^^^^^^^^^^^^^^^^^^^^^^^^^^^^^^^^^^^\n",
      "  File \"c:\\Users\\yagod\\AppData\\Local\\Programs\\Python\\Python312\\Lib\\site-packages\\sklearn\\linear_model\\_logistic.py\", line 67, in _check_solver\n",
      "    raise ValueError(\n",
      "ValueError: Solver lbfgs supports only 'l2' or None penalties, got l1 penalty.\n",
      "\n",
      "--------------------------------------------------------------------------------\n",
      "216 fits failed with the following error:\n",
      "Traceback (most recent call last):\n",
      "  File \"c:\\Users\\yagod\\AppData\\Local\\Programs\\Python\\Python312\\Lib\\site-packages\\sklearn\\model_selection\\_validation.py\", line 888, in _fit_and_score\n",
      "    estimator.fit(X_train, y_train, **fit_params)\n",
      "  File \"c:\\Users\\yagod\\AppData\\Local\\Programs\\Python\\Python312\\Lib\\site-packages\\sklearn\\base.py\", line 1473, in wrapper\n",
      "    return fit_method(estimator, *args, **kwargs)\n",
      "           ^^^^^^^^^^^^^^^^^^^^^^^^^^^^^^^^^^^^^^\n",
      "  File \"c:\\Users\\yagod\\AppData\\Local\\Programs\\Python\\Python312\\Lib\\site-packages\\sklearn\\linear_model\\_logistic.py\", line 1194, in fit\n",
      "    solver = _check_solver(self.solver, self.penalty, self.dual)\n",
      "             ^^^^^^^^^^^^^^^^^^^^^^^^^^^^^^^^^^^^^^^^^^^^^^^^^^^\n",
      "  File \"c:\\Users\\yagod\\AppData\\Local\\Programs\\Python\\Python312\\Lib\\site-packages\\sklearn\\linear_model\\_logistic.py\", line 67, in _check_solver\n",
      "    raise ValueError(\n",
      "ValueError: Solver newton-cg supports only 'l2' or None penalties, got elasticnet penalty.\n",
      "\n",
      "--------------------------------------------------------------------------------\n",
      "216 fits failed with the following error:\n",
      "Traceback (most recent call last):\n",
      "  File \"c:\\Users\\yagod\\AppData\\Local\\Programs\\Python\\Python312\\Lib\\site-packages\\sklearn\\model_selection\\_validation.py\", line 888, in _fit_and_score\n",
      "    estimator.fit(X_train, y_train, **fit_params)\n",
      "  File \"c:\\Users\\yagod\\AppData\\Local\\Programs\\Python\\Python312\\Lib\\site-packages\\sklearn\\base.py\", line 1473, in wrapper\n",
      "    return fit_method(estimator, *args, **kwargs)\n",
      "           ^^^^^^^^^^^^^^^^^^^^^^^^^^^^^^^^^^^^^^\n",
      "  File \"c:\\Users\\yagod\\AppData\\Local\\Programs\\Python\\Python312\\Lib\\site-packages\\sklearn\\linear_model\\_logistic.py\", line 1194, in fit\n",
      "    solver = _check_solver(self.solver, self.penalty, self.dual)\n",
      "             ^^^^^^^^^^^^^^^^^^^^^^^^^^^^^^^^^^^^^^^^^^^^^^^^^^^\n",
      "  File \"c:\\Users\\yagod\\AppData\\Local\\Programs\\Python\\Python312\\Lib\\site-packages\\sklearn\\linear_model\\_logistic.py\", line 67, in _check_solver\n",
      "    raise ValueError(\n",
      "ValueError: Solver lbfgs supports only 'l2' or None penalties, got elasticnet penalty.\n",
      "\n",
      "--------------------------------------------------------------------------------\n",
      "216 fits failed with the following error:\n",
      "Traceback (most recent call last):\n",
      "  File \"c:\\Users\\yagod\\AppData\\Local\\Programs\\Python\\Python312\\Lib\\site-packages\\sklearn\\model_selection\\_validation.py\", line 888, in _fit_and_score\n",
      "    estimator.fit(X_train, y_train, **fit_params)\n",
      "  File \"c:\\Users\\yagod\\AppData\\Local\\Programs\\Python\\Python312\\Lib\\site-packages\\sklearn\\base.py\", line 1473, in wrapper\n",
      "    return fit_method(estimator, *args, **kwargs)\n",
      "           ^^^^^^^^^^^^^^^^^^^^^^^^^^^^^^^^^^^^^^\n",
      "  File \"c:\\Users\\yagod\\AppData\\Local\\Programs\\Python\\Python312\\Lib\\site-packages\\sklearn\\linear_model\\_logistic.py\", line 1194, in fit\n",
      "    solver = _check_solver(self.solver, self.penalty, self.dual)\n",
      "             ^^^^^^^^^^^^^^^^^^^^^^^^^^^^^^^^^^^^^^^^^^^^^^^^^^^\n",
      "  File \"c:\\Users\\yagod\\AppData\\Local\\Programs\\Python\\Python312\\Lib\\site-packages\\sklearn\\linear_model\\_logistic.py\", line 75, in _check_solver\n",
      "    raise ValueError(\n",
      "ValueError: Only 'saga' solver supports elasticnet penalty, got solver=liblinear.\n",
      "\n",
      "\n",
      "c:\\Users\\yagod\\AppData\\Local\\Programs\\Python\\Python312\\Lib\\site-packages\\sklearn\\model_selection\\_search.py:1102: UserWarning:\n",
      "\n",
      "One or more of the test scores are non-finite: [       nan        nan 0.49923374 0.48591463 0.52957701 0.52975823\n",
      " 0.5363571  0.52957701        nan        nan        nan 0.51703757\n",
      "        nan        nan 0.49923374 0.48591463 0.52957701 0.52975823\n",
      " 0.5363571  0.52957701        nan        nan        nan 0.51703757\n",
      "        nan        nan 0.49923374 0.48591463 0.52957701 0.52975823\n",
      " 0.5363571  0.52957701        nan        nan        nan 0.51703757\n",
      "        nan        nan 0.49923374 0.48591463 0.52957701 0.52975823\n",
      " 0.5363571  0.52957701        nan        nan        nan 0.48591463\n",
      "        nan        nan 0.49923374 0.48591463 0.52957701 0.52975823\n",
      " 0.5363571  0.52957701        nan        nan        nan 0.48591463\n",
      "        nan        nan 0.49923374 0.48591463 0.52957701 0.52975823\n",
      " 0.5363571  0.52957701        nan        nan        nan 0.48591463\n",
      "        nan        nan 0.49923374 0.48591463 0.52957701 0.52975823\n",
      " 0.5363571  0.52957701        nan        nan        nan 0.48591463\n",
      "        nan        nan 0.49923374 0.48591463 0.52957701 0.52975823\n",
      " 0.5363571  0.52957701        nan        nan        nan 0.48591463\n",
      "        nan        nan 0.49923374 0.48591463 0.52957701 0.52975823\n",
      " 0.5363571  0.52957701        nan        nan        nan 0.48591463\n",
      "        nan        nan 0.49923374 0.48591463 0.52957701 0.52975823\n",
      " 0.5363571  0.52957701        nan        nan        nan 0.48591463\n",
      "        nan        nan 0.49923374 0.48591463 0.52957701 0.52975823\n",
      " 0.5363571  0.52957701        nan        nan        nan 0.48591463\n",
      "        nan        nan 0.49923374 0.48591463 0.52957701 0.52975823\n",
      " 0.5363571  0.52957701        nan        nan        nan 0.48591463\n",
      "        nan        nan 0.65070013 0.64755086 0.6442541  0.64466701\n",
      " 0.64489009 0.64406927        nan        nan        nan 0.64430923\n",
      "        nan        nan 0.65070013 0.64755086 0.6442541  0.64466701\n",
      " 0.64489009 0.64406927        nan        nan        nan 0.64430923\n",
      "        nan        nan 0.65070013 0.64755086 0.6442541  0.64466701\n",
      " 0.64489009 0.64406927        nan        nan        nan 0.64430923\n",
      "        nan        nan 0.65070013 0.64755086 0.6442541  0.64466701\n",
      " 0.64489009 0.64406927        nan        nan        nan 0.64496899\n",
      "        nan        nan 0.65070013 0.64755086 0.6442541  0.64466701\n",
      " 0.64489009 0.64406927        nan        nan        nan 0.64496899\n",
      "        nan        nan 0.65070013 0.64755086 0.6442541  0.64466701\n",
      " 0.64489009 0.64406927        nan        nan        nan 0.64496899\n",
      "        nan        nan 0.65070013 0.64755086 0.6442541  0.64466701\n",
      " 0.64489009 0.64406927        nan        nan        nan 0.64618118\n",
      "        nan        nan 0.65070013 0.64755086 0.6442541  0.64466701\n",
      " 0.64489009 0.64406927        nan        nan        nan 0.64618118\n",
      "        nan        nan 0.65070013 0.64755086 0.6442541  0.64466701\n",
      " 0.64489009 0.64406927        nan        nan        nan 0.64618118\n",
      "        nan        nan 0.65070013 0.64755086 0.6442541  0.64466701\n",
      " 0.64489009 0.64406927        nan        nan        nan 0.64755086\n",
      "        nan        nan 0.65070013 0.64755086 0.6442541  0.64466701\n",
      " 0.64489009 0.64406927        nan        nan        nan 0.64755086\n",
      "        nan        nan 0.65070013 0.64755086 0.6442541  0.64466701\n",
      " 0.64489009 0.64406927        nan        nan        nan 0.64755086\n",
      "        nan        nan 0.66006133 0.66020051 0.65958586 0.65983176\n",
      " 0.65986324 0.65945005        nan        nan        nan 0.6595178\n",
      "        nan        nan 0.66006133 0.66020051 0.65958586 0.65983176\n",
      " 0.65986324 0.65945005        nan        nan        nan 0.6595178\n",
      "        nan        nan 0.66006133 0.66020051 0.65958586 0.65983176\n",
      " 0.65986324 0.65945005        nan        nan        nan 0.6595178\n",
      "        nan        nan 0.66006133 0.66020051 0.65958586 0.65983176\n",
      " 0.65986324 0.65945005        nan        nan        nan 0.65932982\n",
      "        nan        nan 0.66006133 0.66020051 0.65958586 0.65983176\n",
      " 0.65986324 0.65945005        nan        nan        nan 0.65932982\n",
      "        nan        nan 0.66006133 0.66020051 0.65958586 0.65983176\n",
      " 0.65986324 0.65945005        nan        nan        nan 0.65932982\n",
      "        nan        nan 0.66006133 0.66020051 0.65958586 0.65983176\n",
      " 0.65986324 0.65945005        nan        nan        nan 0.65994983\n",
      "        nan        nan 0.66006133 0.66020051 0.65958586 0.65983176\n",
      " 0.65986324 0.65945005        nan        nan        nan 0.65994983\n",
      "        nan        nan 0.66006133 0.66020051 0.65958586 0.65983176\n",
      " 0.65986324 0.65945005        nan        nan        nan 0.65994983\n",
      "        nan        nan 0.66006133 0.66020051 0.65958586 0.65983176\n",
      " 0.65986324 0.65945005        nan        nan        nan 0.66020051\n",
      "        nan        nan 0.66006133 0.66020051 0.65958586 0.65983176\n",
      " 0.65986324 0.65945005        nan        nan        nan 0.66020051\n",
      "        nan        nan 0.66006133 0.66020051 0.65958586 0.65983176\n",
      " 0.65986324 0.65945005        nan        nan        nan 0.66020051\n",
      "        nan        nan 0.66146833 0.66126379 0.66147339 0.66183974\n",
      " 0.66137382 0.66125007        nan        nan        nan 0.6613116\n",
      "        nan        nan 0.66146833 0.66126379 0.66147339 0.66183974\n",
      " 0.66137382 0.66132627        nan        nan        nan 0.66137416\n",
      "        nan        nan 0.66146833 0.66126379 0.66147339 0.66183974\n",
      " 0.66137382 0.66132627        nan        nan        nan 0.66137416\n",
      "        nan        nan 0.66146833 0.66126379 0.66147339 0.66183974\n",
      " 0.66137382 0.66125007        nan        nan        nan 0.66146411\n",
      "        nan        nan 0.66146833 0.66126379 0.66147339 0.66183974\n",
      " 0.66137382 0.66132627        nan        nan        nan 0.66146411\n",
      "        nan        nan 0.66146833 0.66126379 0.66147339 0.66183974\n",
      " 0.66137382 0.66132627        nan        nan        nan 0.66146411\n",
      "        nan        nan 0.66146833 0.66126379 0.66147339 0.66183974\n",
      " 0.66137382 0.66125007        nan        nan        nan 0.66143095\n",
      "        nan        nan 0.66146833 0.66126379 0.66147339 0.66183974\n",
      " 0.66137382 0.66132627        nan        nan        nan 0.66143095\n",
      "        nan        nan 0.66146833 0.66126379 0.66147339 0.66183974\n",
      " 0.66137382 0.66132627        nan        nan        nan 0.66143095\n",
      "        nan        nan 0.66146833 0.66126379 0.66147339 0.66183974\n",
      " 0.66137382 0.66125007        nan        nan        nan 0.66126379\n",
      "        nan        nan 0.66146833 0.66126379 0.66147339 0.66183974\n",
      " 0.66137382 0.66132627        nan        nan        nan 0.66126379\n",
      "        nan        nan 0.66146833 0.66126379 0.66147339 0.66183974\n",
      " 0.66137382 0.66132627        nan        nan        nan 0.66126379\n",
      "        nan        nan 0.66169302 0.66165912 0.66148221 0.66196796\n",
      " 0.6618736  0.66173533        nan        nan        nan 0.66173533\n",
      "        nan        nan 0.66169302 0.66178249 0.66148221 0.66196796\n",
      " 0.6618736  0.6618736         nan        nan        nan 0.6618736\n",
      "        nan        nan 0.66169302 0.66178249 0.66148221 0.66196796\n",
      " 0.6618736  0.6618736         nan        nan        nan 0.6618736\n",
      "        nan        nan 0.66169302 0.66165912 0.66148221 0.66196796\n",
      " 0.6618736  0.66173533        nan        nan        nan 0.66165893\n",
      "        nan        nan 0.66169302 0.66178249 0.66148221 0.66196796\n",
      " 0.6618736  0.6618736         nan        nan        nan 0.66181162\n",
      "        nan        nan 0.66169302 0.66178249 0.66148221 0.66196796\n",
      " 0.6618736  0.6618736         nan        nan        nan 0.66193545\n",
      "        nan        nan 0.66169302 0.66165912 0.66148221 0.66196796\n",
      " 0.6618736  0.66173533        nan        nan        nan 0.66164457\n",
      "        nan        nan 0.66169302 0.66178249 0.66148221 0.66196796\n",
      " 0.6618736  0.6618736         nan        nan        nan 0.6617972\n",
      "        nan        nan 0.66169302 0.66178249 0.66148221 0.66196796\n",
      " 0.6618736  0.6618736         nan        nan        nan 0.66181162\n",
      "        nan        nan 0.66169302 0.66165912 0.66148221 0.66196796\n",
      " 0.6618736  0.66173533        nan        nan        nan 0.66165912\n",
      "        nan        nan 0.66169302 0.66178249 0.66148221 0.66196796\n",
      " 0.6618736  0.6618736         nan        nan        nan 0.66178249\n",
      "        nan        nan 0.66169302 0.66178249 0.66148221 0.66196796\n",
      " 0.6618736  0.6618736         nan        nan        nan 0.66178249\n",
      "        nan        nan 0.66161656 0.66193545 0.66154423 0.66212053\n",
      " 0.66184497 0.66193545        nan        nan        nan 0.66193545\n",
      "        nan        nan 0.66161656 0.66184497 0.66154423 0.66212053\n",
      " 0.66184497 0.66179737        nan        nan        nan 0.66179737\n",
      "        nan        nan 0.66161656 0.66185938 0.66154423 0.66212053\n",
      " 0.66184497 0.66185938        nan        nan        nan 0.66185938\n",
      "        nan        nan 0.66161656 0.66193545 0.66154423 0.66212053\n",
      " 0.66184497 0.66193545        nan        nan        nan 0.66193545\n",
      "        nan        nan 0.66161656 0.66184497 0.66154423 0.66212053\n",
      " 0.66184497 0.66179737        nan        nan        nan 0.66179737\n",
      "        nan        nan 0.66161656 0.66185938 0.66154423 0.66212053\n",
      " 0.66184497 0.66185938        nan        nan        nan 0.66185938\n",
      "        nan        nan 0.66161656 0.66193545 0.66154423 0.66212053\n",
      " 0.66184497 0.66193545        nan        nan        nan 0.66193545\n",
      "        nan        nan 0.66161656 0.66184497 0.66154423 0.66212053\n",
      " 0.66184497 0.66179737        nan        nan        nan 0.66185938\n",
      "        nan        nan 0.66161656 0.66185938 0.66154423 0.66212053\n",
      " 0.66184497 0.66185938        nan        nan        nan 0.66185938\n",
      "        nan        nan 0.66161656 0.66193545 0.66154423 0.66212053\n",
      " 0.66184497 0.66193545        nan        nan        nan 0.66193545\n",
      "        nan        nan 0.66161656 0.66184497 0.66154423 0.66212053\n",
      " 0.66184497 0.66179737        nan        nan        nan 0.66184497\n",
      "        nan        nan 0.66161656 0.66185938 0.66154423 0.66212053\n",
      " 0.66184497 0.66185938        nan        nan        nan 0.66185938]\n",
      "\n",
      "c:\\Users\\yagod\\AppData\\Local\\Programs\\Python\\Python312\\Lib\\site-packages\\sklearn\\linear_model\\_logistic.py:1197: UserWarning:\n",
      "\n",
      "l1_ratio parameter is only used when penalty is 'elasticnet'. Got (penalty=l2)\n",
      "\n"
     ]
    }
   ],
   "source": [
    "param_grid = {\n",
    "    'penalty': ['l1', 'l2', 'elasticnet'],  # Tipo de penalização\n",
    "    'C': [0.001, 0.01, 0.1, 1, 10, 100],            # Força da penalização (inverso da regularização)\n",
    "    'solver': ['newton-cg', 'lbfgs', 'liblinear', 'saga'],  # Algoritmo de otimização\n",
    "    'max_iter': [100, 200, 300],                    # Número máximo de iterações\n",
    "    'l1_ratio': [0.1, 0.5, 0.7, 1.0] \n",
    "}\n",
    "\n",
    "# Criar o objeto de Regressão Logística\n",
    "log_reg = LogisticRegression(random_state=42)\n",
    "\n",
    "# Criar o objeto GridSearchCV\n",
    "grid_search = GridSearchCV(estimator=log_reg,\n",
    "                           param_grid=param_grid,\n",
    "                           cv=3,                # Número de folds para validação cruzada\n",
    "                           scoring='f1_macro',  # Métrica para avaliação do desempenho\n",
    "                           n_jobs=-1)           # Número de jobs paralelos\n",
    "\n",
    "# Ajustar o GridSearchCV aos dados\n",
    "grid_search.fit(X_train, y_train)\n",
    "\n",
    "# Melhor modelo encontrado\n",
    "best_model = grid_search.best_estimator_"
   ]
  },
  {
   "cell_type": "code",
   "execution_count": 45,
   "metadata": {},
   "outputs": [],
   "source": [
    "y_pred = best_model.predict(X_test)\n",
    "\n",
    "add_model_report(reportstest,'regressao logistica',y_test, y_pred)\n",
    "\n",
    "y_pred_treino = best_model.predict(X_train)\n",
    "\n",
    "add_model_report(reportstreino,'regressao logistica',y_train, y_pred_treino)\n"
   ]
  },
  {
   "cell_type": "code",
   "execution_count": 46,
   "metadata": {},
   "outputs": [],
   "source": [
    "from matplotlib.pylab import set_state\n",
    "\n",
    "\n",
    "param_grid = {\n",
    "    'n_neighbors': [ 7, 9,11,15,19,25],           # Número de vizinhos a considerar\n",
    "    'weights': ['uniform', 'distance'],    # Função de pesos\n",
    "    'algorithm': ['auto', 'ball_tree', 'kd_tree', 'brute'],  # Algoritmo de busca\n",
    "    'p': [1, 2]\n",
    "}\n",
    "\n",
    "# Criar o objeto de K-Nearest Neighbors\n",
    "knn = KNeighborsClassifier()\n",
    "\n",
    "# Criar o objeto GridSearchCV com f1_score como métrica\n",
    "grid_search = GridSearchCV(estimator=knn,\n",
    "                           param_grid=param_grid,\n",
    "                           cv=3,                # Número de folds para validação cruzada\n",
    "                           scoring='f1_macro',  # Métrica para avaliação do desempenho\n",
    "                           n_jobs=-1)           # Número de jobs paralelos\n",
    "\n",
    "# Ajustar o GridSearchCV aos dados\n",
    "grid_search.fit(x2, y2)\n",
    "\n",
    "# Melhor modelo encontrado\n",
    "best_model = grid_search.best_estimator_\n"
   ]
  },
  {
   "cell_type": "code",
   "execution_count": 47,
   "metadata": {},
   "outputs": [],
   "source": [
    "y_pred = best_model.predict(X_test)\n",
    "\n",
    "add_model_report(reportstest,'knn',y_test, y_pred)\n",
    "\n",
    "\n",
    "y_pred_treino = best_model.predict(x2)\n",
    "\n",
    "add_model_report(reportstreino,'knn',y2, y_pred_treino)"
   ]
  },
  {
   "cell_type": "code",
   "execution_count": 49,
   "metadata": {},
   "outputs": [],
   "source": [
    "param_grid = {\n",
    "    'depth': [6, 8, 10],                     # Profundidade das árvores\n",
    "    'learning_rate': [0.01, 0.1, 0.2],      # Taxa de aprendizado\n",
    "    'n_estimators': [50, 200, 300],         # Número de árvores\n",
    "}\n",
    "\n",
    "# Criar o objeto CatBoostClassifier\n",
    "catboost = CatBoostClassifier(cat_features=[], # Se não houver variáveis categóricas, deixe vazio\n",
    "                               verbose=0,random_state=42,task_type='GPU', devices='0')     # Desativa o log verbose durante a execução\n",
    "\n",
    "# Criar o objeto GridSearchCV com f1_score como métrica\n",
    "grid_search = GridSearchCV(estimator=catboost,\n",
    "                           param_grid=param_grid,\n",
    "                           cv=3,                # Número de folds para validação cruzada\n",
    "                           scoring='f1_macro'  # Métrica para avaliação do desempenho\n",
    "                          )           # Número de jobs paralelos\n",
    "\n",
    "# Ajustar o GridSearchCV aos dados\n",
    "grid_search.fit(x3, y3)\n",
    "\n",
    "# Melhor modelo encontrado\n",
    "best_model = grid_search.best_estimator_"
   ]
  },
  {
   "cell_type": "code",
   "execution_count": 50,
   "metadata": {},
   "outputs": [],
   "source": [
    "y_pred = best_model.predict(X_test)\n",
    "\n",
    "add_model_report(reportstest,'catboost',y_test, y_pred)\n",
    "\n",
    "\n",
    "y_pred_treino = best_model.predict(x3)\n",
    "\n",
    "add_model_report(reportstreino,'catboost',y3, y_pred_treino)"
   ]
  },
  {
   "cell_type": "code",
   "execution_count": 51,
   "metadata": {},
   "outputs": [
    {
     "name": "stderr",
     "output_type": "stream",
     "text": [
      "c:\\Users\\yagod\\AppData\\Local\\Programs\\Python\\Python312\\Lib\\site-packages\\keras\\src\\layers\\core\\dense.py:87: UserWarning:\n",
      "\n",
      "Do not pass an `input_shape`/`input_dim` argument to a layer. When using Sequential models, prefer using an `Input(shape)` object as the first layer in the model instead.\n",
      "\n"
     ]
    },
    {
     "name": "stdout",
     "output_type": "stream",
     "text": [
      "\u001b[1m2307/2307\u001b[0m \u001b[32m━━━━━━━━━━━━━━━━━━━━\u001b[0m\u001b[37m\u001b[0m \u001b[1m2s\u001b[0m 832us/step\n"
     ]
    }
   ],
   "source": [
    "import tensorflow as tf\n",
    "from tensorflow.keras.models import Sequential\n",
    "from tensorflow.keras.layers import Dense\n",
    "from tensorflow.keras.optimizers import Adam\n",
    "from tensorflow.keras.layers import Dropout\n",
    "from tensorflow.keras.regularizers import l1\n",
    "\n",
    "seed = 42\n",
    "tf.random.set_seed(seed)\n",
    "\n",
    "modelo = Sequential([\n",
    "\n",
    "Dense(64, input_shape=(X_train.shape[1],), activation='relu', kernel_regularizer=l1(0.01)),\n",
    "Dropout(0.5),\n",
    "Dense(32, activation='relu', kernel_regularizer=l1(0.01)),\n",
    "Dropout(0.5),\n",
    "Dense(1, activation='sigmoid'),\n",
    "])\n",
    "from tensorflow.keras import backend as K\n",
    "\n",
    "# Definindo a função F1-Score\n",
    "def f1_scorez(y_true, y_pred):\n",
    "    def recall(y_true, y_pred):\n",
    "        true_positives = K.sum(K.round(K.clip(y_true * y_pred, 0, 1)))\n",
    "        possible_positives = K.sum(K.round(K.clip(y_true, 0, 1)))\n",
    "        recall = true_positives / (possible_positives + K.epsilon())\n",
    "        return recall\n",
    "\n",
    "    def precision(y_true, y_pred):\n",
    "        true_positives = K.sum(K.round(K.clip(y_true * y_pred, 0, 1)))\n",
    "        predicted_positives = K.sum(K.round(K.clip(y_pred, 0, 1)))\n",
    "        precision = true_positives / (predicted_positives + K.epsilon())\n",
    "        return precision\n",
    "\n",
    "    precision = precision(y_true, y_pred)\n",
    "    recall = recall(y_true, y_pred)\n",
    "    f1 = 2 * ((precision * recall) / (precision + recall + K.epsilon()))\n",
    "    return f1\n",
    "\n",
    "from tensorflow.keras.callbacks import EarlyStopping\n",
    "\n",
    "early_stopping = EarlyStopping(\n",
    "    monitor='val_loss',  # Métrica a ser monitorada\n",
    "    patience=10,         # Número de épocas sem melhora antes de parar o treinamento\n",
    "    restore_best_weights=True  # Restaurar os pesos do modelo com melhor performance no conjunto de validação\n",
    ")\n",
    "\n",
    "modelo.compile(optimizer=Adam(learning_rate=0.001), loss='binary_crossentropy', metrics=['accuracy',f1_scorez])\n",
    "\n",
    "history = modelo.fit(x2, y2, epochs=200, validation_split=0.2, batch_size=1024, callbacks=[early_stopping],verbose=0)\n",
    "\n",
    "\n",
    "\n",
    "y_pred = (modelo.predict(X_test) >0.5).astype(\"int32\")\n",
    "\n",
    "add_model_report(reportstest,'redes neurais',y_test, y_pred)\n",
    "\n",
    "y_pred_treino = best_model.predict(x2)\n",
    "\n",
    "add_model_report(reportstreino,'redes neurais',y2, y_pred_treino)"
   ]
  },
  {
   "cell_type": "code",
   "execution_count": 52,
   "metadata": {},
   "outputs": [
    {
     "data": {
      "application/vnd.plotly.v1+json": {
       "config": {
        "plotlyServerURL": "https://plot.ly"
       },
       "data": [
        {
         "cells": {
          "align": "left",
          "fill": {
           "color": "lavender"
          },
          "values": [
           [
            "random forest",
            "random forest",
            "random forest",
            "random forest",
            "random forest",
            "regressao logistica",
            "regressao logistica",
            "regressao logistica",
            "regressao logistica",
            "regressao logistica",
            "knn",
            "knn",
            "knn",
            "knn",
            "knn",
            "catboost",
            "catboost",
            "catboost",
            "catboost",
            "catboost",
            "redes neurais",
            "redes neurais",
            "redes neurais",
            "redes neurais",
            "redes neurais"
           ],
           [
            "Accuracy",
            "0.0",
            "1.0",
            "macro avg",
            "weighted avg",
            "Accuracy",
            "0.0",
            "1.0",
            "macro avg",
            "weighted avg",
            "Accuracy",
            "0.0",
            "1.0",
            "macro avg",
            "weighted avg",
            "Accuracy",
            "0.0",
            "1.0",
            "macro avg",
            "weighted avg",
            "Accuracy",
            "0.0",
            "1.0",
            "macro avg",
            "weighted avg"
           ],
           [
            1,
            1,
            1,
            1,
            1,
            0.95,
            0.96,
            0.57,
            0.76,
            0.94,
            1,
            1,
            1,
            1,
            1,
            0.99,
            0.98,
            1,
            0.99,
            0.99,
            0.84,
            0.76,
            1,
            0.88,
            0.88
           ],
           [
            1,
            1,
            1,
            1,
            1,
            0.95,
            0.99,
            0.25,
            0.62,
            0.95,
            1,
            1,
            1,
            1,
            1,
            0.99,
            1,
            0.98,
            0.99,
            0.99,
            0.84,
            1,
            0.69,
            0.84,
            0.84
           ],
           [
            1,
            1,
            1,
            1,
            1,
            0.95,
            0.97,
            0.35,
            0.66,
            0.94,
            1,
            1,
            1,
            1,
            1,
            0.99,
            0.99,
            0.99,
            0.99,
            0.99,
            0.84,
            0.86,
            0.81,
            0.84,
            0.84
           ],
           [
            "",
            162778,
            162778,
            325556,
            325556,
            "",
            162778,
            9437,
            172215,
            172215,
            "",
            9437,
            9437,
            18874,
            18874,
            "",
            162778,
            162778,
            325556,
            325556,
            "",
            9437,
            9437,
            18874,
            18874
           ]
          ]
         },
         "header": {
          "align": "left",
          "fill": {
           "color": "paleturquoise"
          },
          "values": [
           "Model",
           "Class",
           "Precision",
           "Recall",
           "F1-Score",
           "Support"
          ]
         },
         "type": "table"
        }
       ],
       "layout": {
        "height": 800,
        "template": {
         "data": {
          "bar": [
           {
            "error_x": {
             "color": "#2a3f5f"
            },
            "error_y": {
             "color": "#2a3f5f"
            },
            "marker": {
             "line": {
              "color": "#E5ECF6",
              "width": 0.5
             },
             "pattern": {
              "fillmode": "overlay",
              "size": 10,
              "solidity": 0.2
             }
            },
            "type": "bar"
           }
          ],
          "barpolar": [
           {
            "marker": {
             "line": {
              "color": "#E5ECF6",
              "width": 0.5
             },
             "pattern": {
              "fillmode": "overlay",
              "size": 10,
              "solidity": 0.2
             }
            },
            "type": "barpolar"
           }
          ],
          "carpet": [
           {
            "aaxis": {
             "endlinecolor": "#2a3f5f",
             "gridcolor": "white",
             "linecolor": "white",
             "minorgridcolor": "white",
             "startlinecolor": "#2a3f5f"
            },
            "baxis": {
             "endlinecolor": "#2a3f5f",
             "gridcolor": "white",
             "linecolor": "white",
             "minorgridcolor": "white",
             "startlinecolor": "#2a3f5f"
            },
            "type": "carpet"
           }
          ],
          "choropleth": [
           {
            "colorbar": {
             "outlinewidth": 0,
             "ticks": ""
            },
            "type": "choropleth"
           }
          ],
          "contour": [
           {
            "colorbar": {
             "outlinewidth": 0,
             "ticks": ""
            },
            "colorscale": [
             [
              0,
              "#0d0887"
             ],
             [
              0.1111111111111111,
              "#46039f"
             ],
             [
              0.2222222222222222,
              "#7201a8"
             ],
             [
              0.3333333333333333,
              "#9c179e"
             ],
             [
              0.4444444444444444,
              "#bd3786"
             ],
             [
              0.5555555555555556,
              "#d8576b"
             ],
             [
              0.6666666666666666,
              "#ed7953"
             ],
             [
              0.7777777777777778,
              "#fb9f3a"
             ],
             [
              0.8888888888888888,
              "#fdca26"
             ],
             [
              1,
              "#f0f921"
             ]
            ],
            "type": "contour"
           }
          ],
          "contourcarpet": [
           {
            "colorbar": {
             "outlinewidth": 0,
             "ticks": ""
            },
            "type": "contourcarpet"
           }
          ],
          "heatmap": [
           {
            "colorbar": {
             "outlinewidth": 0,
             "ticks": ""
            },
            "colorscale": [
             [
              0,
              "#0d0887"
             ],
             [
              0.1111111111111111,
              "#46039f"
             ],
             [
              0.2222222222222222,
              "#7201a8"
             ],
             [
              0.3333333333333333,
              "#9c179e"
             ],
             [
              0.4444444444444444,
              "#bd3786"
             ],
             [
              0.5555555555555556,
              "#d8576b"
             ],
             [
              0.6666666666666666,
              "#ed7953"
             ],
             [
              0.7777777777777778,
              "#fb9f3a"
             ],
             [
              0.8888888888888888,
              "#fdca26"
             ],
             [
              1,
              "#f0f921"
             ]
            ],
            "type": "heatmap"
           }
          ],
          "heatmapgl": [
           {
            "colorbar": {
             "outlinewidth": 0,
             "ticks": ""
            },
            "colorscale": [
             [
              0,
              "#0d0887"
             ],
             [
              0.1111111111111111,
              "#46039f"
             ],
             [
              0.2222222222222222,
              "#7201a8"
             ],
             [
              0.3333333333333333,
              "#9c179e"
             ],
             [
              0.4444444444444444,
              "#bd3786"
             ],
             [
              0.5555555555555556,
              "#d8576b"
             ],
             [
              0.6666666666666666,
              "#ed7953"
             ],
             [
              0.7777777777777778,
              "#fb9f3a"
             ],
             [
              0.8888888888888888,
              "#fdca26"
             ],
             [
              1,
              "#f0f921"
             ]
            ],
            "type": "heatmapgl"
           }
          ],
          "histogram": [
           {
            "marker": {
             "pattern": {
              "fillmode": "overlay",
              "size": 10,
              "solidity": 0.2
             }
            },
            "type": "histogram"
           }
          ],
          "histogram2d": [
           {
            "colorbar": {
             "outlinewidth": 0,
             "ticks": ""
            },
            "colorscale": [
             [
              0,
              "#0d0887"
             ],
             [
              0.1111111111111111,
              "#46039f"
             ],
             [
              0.2222222222222222,
              "#7201a8"
             ],
             [
              0.3333333333333333,
              "#9c179e"
             ],
             [
              0.4444444444444444,
              "#bd3786"
             ],
             [
              0.5555555555555556,
              "#d8576b"
             ],
             [
              0.6666666666666666,
              "#ed7953"
             ],
             [
              0.7777777777777778,
              "#fb9f3a"
             ],
             [
              0.8888888888888888,
              "#fdca26"
             ],
             [
              1,
              "#f0f921"
             ]
            ],
            "type": "histogram2d"
           }
          ],
          "histogram2dcontour": [
           {
            "colorbar": {
             "outlinewidth": 0,
             "ticks": ""
            },
            "colorscale": [
             [
              0,
              "#0d0887"
             ],
             [
              0.1111111111111111,
              "#46039f"
             ],
             [
              0.2222222222222222,
              "#7201a8"
             ],
             [
              0.3333333333333333,
              "#9c179e"
             ],
             [
              0.4444444444444444,
              "#bd3786"
             ],
             [
              0.5555555555555556,
              "#d8576b"
             ],
             [
              0.6666666666666666,
              "#ed7953"
             ],
             [
              0.7777777777777778,
              "#fb9f3a"
             ],
             [
              0.8888888888888888,
              "#fdca26"
             ],
             [
              1,
              "#f0f921"
             ]
            ],
            "type": "histogram2dcontour"
           }
          ],
          "mesh3d": [
           {
            "colorbar": {
             "outlinewidth": 0,
             "ticks": ""
            },
            "type": "mesh3d"
           }
          ],
          "parcoords": [
           {
            "line": {
             "colorbar": {
              "outlinewidth": 0,
              "ticks": ""
             }
            },
            "type": "parcoords"
           }
          ],
          "pie": [
           {
            "automargin": true,
            "type": "pie"
           }
          ],
          "scatter": [
           {
            "fillpattern": {
             "fillmode": "overlay",
             "size": 10,
             "solidity": 0.2
            },
            "type": "scatter"
           }
          ],
          "scatter3d": [
           {
            "line": {
             "colorbar": {
              "outlinewidth": 0,
              "ticks": ""
             }
            },
            "marker": {
             "colorbar": {
              "outlinewidth": 0,
              "ticks": ""
             }
            },
            "type": "scatter3d"
           }
          ],
          "scattercarpet": [
           {
            "marker": {
             "colorbar": {
              "outlinewidth": 0,
              "ticks": ""
             }
            },
            "type": "scattercarpet"
           }
          ],
          "scattergeo": [
           {
            "marker": {
             "colorbar": {
              "outlinewidth": 0,
              "ticks": ""
             }
            },
            "type": "scattergeo"
           }
          ],
          "scattergl": [
           {
            "marker": {
             "colorbar": {
              "outlinewidth": 0,
              "ticks": ""
             }
            },
            "type": "scattergl"
           }
          ],
          "scattermapbox": [
           {
            "marker": {
             "colorbar": {
              "outlinewidth": 0,
              "ticks": ""
             }
            },
            "type": "scattermapbox"
           }
          ],
          "scatterpolar": [
           {
            "marker": {
             "colorbar": {
              "outlinewidth": 0,
              "ticks": ""
             }
            },
            "type": "scatterpolar"
           }
          ],
          "scatterpolargl": [
           {
            "marker": {
             "colorbar": {
              "outlinewidth": 0,
              "ticks": ""
             }
            },
            "type": "scatterpolargl"
           }
          ],
          "scatterternary": [
           {
            "marker": {
             "colorbar": {
              "outlinewidth": 0,
              "ticks": ""
             }
            },
            "type": "scatterternary"
           }
          ],
          "surface": [
           {
            "colorbar": {
             "outlinewidth": 0,
             "ticks": ""
            },
            "colorscale": [
             [
              0,
              "#0d0887"
             ],
             [
              0.1111111111111111,
              "#46039f"
             ],
             [
              0.2222222222222222,
              "#7201a8"
             ],
             [
              0.3333333333333333,
              "#9c179e"
             ],
             [
              0.4444444444444444,
              "#bd3786"
             ],
             [
              0.5555555555555556,
              "#d8576b"
             ],
             [
              0.6666666666666666,
              "#ed7953"
             ],
             [
              0.7777777777777778,
              "#fb9f3a"
             ],
             [
              0.8888888888888888,
              "#fdca26"
             ],
             [
              1,
              "#f0f921"
             ]
            ],
            "type": "surface"
           }
          ],
          "table": [
           {
            "cells": {
             "fill": {
              "color": "#EBF0F8"
             },
             "line": {
              "color": "white"
             }
            },
            "header": {
             "fill": {
              "color": "#C8D4E3"
             },
             "line": {
              "color": "white"
             }
            },
            "type": "table"
           }
          ]
         },
         "layout": {
          "annotationdefaults": {
           "arrowcolor": "#2a3f5f",
           "arrowhead": 0,
           "arrowwidth": 1
          },
          "autotypenumbers": "strict",
          "coloraxis": {
           "colorbar": {
            "outlinewidth": 0,
            "ticks": ""
           }
          },
          "colorscale": {
           "diverging": [
            [
             0,
             "#8e0152"
            ],
            [
             0.1,
             "#c51b7d"
            ],
            [
             0.2,
             "#de77ae"
            ],
            [
             0.3,
             "#f1b6da"
            ],
            [
             0.4,
             "#fde0ef"
            ],
            [
             0.5,
             "#f7f7f7"
            ],
            [
             0.6,
             "#e6f5d0"
            ],
            [
             0.7,
             "#b8e186"
            ],
            [
             0.8,
             "#7fbc41"
            ],
            [
             0.9,
             "#4d9221"
            ],
            [
             1,
             "#276419"
            ]
           ],
           "sequential": [
            [
             0,
             "#0d0887"
            ],
            [
             0.1111111111111111,
             "#46039f"
            ],
            [
             0.2222222222222222,
             "#7201a8"
            ],
            [
             0.3333333333333333,
             "#9c179e"
            ],
            [
             0.4444444444444444,
             "#bd3786"
            ],
            [
             0.5555555555555556,
             "#d8576b"
            ],
            [
             0.6666666666666666,
             "#ed7953"
            ],
            [
             0.7777777777777778,
             "#fb9f3a"
            ],
            [
             0.8888888888888888,
             "#fdca26"
            ],
            [
             1,
             "#f0f921"
            ]
           ],
           "sequentialminus": [
            [
             0,
             "#0d0887"
            ],
            [
             0.1111111111111111,
             "#46039f"
            ],
            [
             0.2222222222222222,
             "#7201a8"
            ],
            [
             0.3333333333333333,
             "#9c179e"
            ],
            [
             0.4444444444444444,
             "#bd3786"
            ],
            [
             0.5555555555555556,
             "#d8576b"
            ],
            [
             0.6666666666666666,
             "#ed7953"
            ],
            [
             0.7777777777777778,
             "#fb9f3a"
            ],
            [
             0.8888888888888888,
             "#fdca26"
            ],
            [
             1,
             "#f0f921"
            ]
           ]
          },
          "colorway": [
           "#636efa",
           "#EF553B",
           "#00cc96",
           "#ab63fa",
           "#FFA15A",
           "#19d3f3",
           "#FF6692",
           "#B6E880",
           "#FF97FF",
           "#FECB52"
          ],
          "font": {
           "color": "#2a3f5f"
          },
          "geo": {
           "bgcolor": "white",
           "lakecolor": "white",
           "landcolor": "#E5ECF6",
           "showlakes": true,
           "showland": true,
           "subunitcolor": "white"
          },
          "hoverlabel": {
           "align": "left"
          },
          "hovermode": "closest",
          "mapbox": {
           "style": "light"
          },
          "paper_bgcolor": "white",
          "plot_bgcolor": "#E5ECF6",
          "polar": {
           "angularaxis": {
            "gridcolor": "white",
            "linecolor": "white",
            "ticks": ""
           },
           "bgcolor": "#E5ECF6",
           "radialaxis": {
            "gridcolor": "white",
            "linecolor": "white",
            "ticks": ""
           }
          },
          "scene": {
           "xaxis": {
            "backgroundcolor": "#E5ECF6",
            "gridcolor": "white",
            "gridwidth": 2,
            "linecolor": "white",
            "showbackground": true,
            "ticks": "",
            "zerolinecolor": "white"
           },
           "yaxis": {
            "backgroundcolor": "#E5ECF6",
            "gridcolor": "white",
            "gridwidth": 2,
            "linecolor": "white",
            "showbackground": true,
            "ticks": "",
            "zerolinecolor": "white"
           },
           "zaxis": {
            "backgroundcolor": "#E5ECF6",
            "gridcolor": "white",
            "gridwidth": 2,
            "linecolor": "white",
            "showbackground": true,
            "ticks": "",
            "zerolinecolor": "white"
           }
          },
          "shapedefaults": {
           "line": {
            "color": "#2a3f5f"
           }
          },
          "ternary": {
           "aaxis": {
            "gridcolor": "white",
            "linecolor": "white",
            "ticks": ""
           },
           "baxis": {
            "gridcolor": "white",
            "linecolor": "white",
            "ticks": ""
           },
           "bgcolor": "#E5ECF6",
           "caxis": {
            "gridcolor": "white",
            "linecolor": "white",
            "ticks": ""
           }
          },
          "title": {
           "x": 0.05
          },
          "xaxis": {
           "automargin": true,
           "gridcolor": "white",
           "linecolor": "white",
           "ticks": "",
           "title": {
            "standoff": 15
           },
           "zerolinecolor": "white",
           "zerolinewidth": 2
          },
          "yaxis": {
           "automargin": true,
           "gridcolor": "white",
           "linecolor": "white",
           "ticks": "",
           "title": {
            "standoff": 15
           },
           "zerolinecolor": "white",
           "zerolinewidth": 2
          }
         }
        },
        "title": {
         "text": "Comparação dos relatorios dos treino dos melhores modelos"
        }
       }
      }
     },
     "metadata": {},
     "output_type": "display_data"
    }
   ],
   "source": [
    "import pandas as pd\n",
    "import plotly.graph_objects as go\n",
    "\n",
    "def generate_comparison_table(reports):\n",
    "    \"\"\" Gera uma tabela comparativa dos relatórios de classificação dos modelos. \"\"\"\n",
    "    data = []\n",
    "\n",
    "    for model_name, report in reportstreino.items():\n",
    "        # Adiciona a acurácia\n",
    "        accuracy = round(report.get('accuracy', 0), 2)\n",
    "        data.append({'Model': model_name,\n",
    "                     'Class': 'Accuracy',\n",
    "                     'Precision': accuracy,\n",
    "                     'Recall': accuracy,\n",
    "                     'F1-Score': accuracy,\n",
    "                     'Support': ''})\n",
    "\n",
    "        # Adiciona uma linha para cada classe\n",
    "        for cls, metrics in report.items():\n",
    "            if cls == 'accuracy':\n",
    "                continue  # Ignora a linha de 'accuracy'\n",
    "            row = {'Model': model_name,\n",
    "                   'Class': cls,\n",
    "                   'Precision': round(metrics.get('precision', 0), 2),\n",
    "                   'Recall': round(metrics.get('recall', 0), 2),\n",
    "                   'F1-Score': round(metrics.get('f1-score', 0), 2),\n",
    "                   'Support': round(metrics.get('support', 0), 2)}\n",
    "            data.append(row)\n",
    "\n",
    "    df_all = pd.DataFrame(data)\n",
    "    return df_all\n",
    "\n",
    "# Gerar a tabela comparativa\n",
    "df_comparison = generate_comparison_table(reportstreino)\n",
    "\n",
    "# Exibir a tabela com Plotly\n",
    "fig = go.Figure(data=[go.Table(\n",
    "    header=dict(values=list(df_comparison.columns),\n",
    "                fill_color='paleturquoise',\n",
    "                align='left'),\n",
    "    cells=dict(values=[df_comparison[col] for col in df_comparison.columns],\n",
    "               fill_color='lavender',\n",
    "               align='left'))\n",
    "])\n",
    "\n",
    "fig.update_layout(title=\"Comparação dos relatorios dos treino dos melhores modelos\",height=800)\n",
    "fig.show()\n"
   ]
  },
  {
   "cell_type": "code",
   "execution_count": 53,
   "metadata": {},
   "outputs": [
    {
     "data": {
      "application/vnd.plotly.v1+json": {
       "config": {
        "plotlyServerURL": "https://plot.ly"
       },
       "data": [
        {
         "cells": {
          "align": "left",
          "fill": {
           "color": "lavender"
          },
          "values": [
           [
            "random forest",
            "random forest",
            "random forest",
            "random forest",
            "random forest",
            "regressao logistica",
            "regressao logistica",
            "regressao logistica",
            "regressao logistica",
            "regressao logistica",
            "knn",
            "knn",
            "knn",
            "knn",
            "knn",
            "catboost",
            "catboost",
            "catboost",
            "catboost",
            "catboost",
            "redes neurais",
            "redes neurais",
            "redes neurais",
            "redes neurais",
            "redes neurais"
           ],
           [
            "Accuracy",
            "0.0",
            "1.0",
            "macro avg",
            "weighted avg",
            "Accuracy",
            "0.0",
            "1.0",
            "macro avg",
            "weighted avg",
            "Accuracy",
            "0.0",
            "1.0",
            "macro avg",
            "weighted avg",
            "Accuracy",
            "0.0",
            "1.0",
            "macro avg",
            "weighted avg",
            "Accuracy",
            "0.0",
            "1.0",
            "macro avg",
            "weighted avg"
           ],
           [
            0.95,
            0.96,
            0.52,
            0.74,
            0.94,
            0.95,
            0.96,
            0.56,
            0.76,
            0.94,
            0.81,
            0.98,
            0.19,
            0.58,
            0.94,
            0.95,
            0.96,
            0.53,
            0.75,
            0.93,
            0.92,
            0.97,
            0.35,
            0.66,
            0.94
           ],
           [
            0.95,
            0.98,
            0.32,
            0.65,
            0.95,
            0.95,
            0.99,
            0.25,
            0.62,
            0.95,
            0.81,
            0.82,
            0.73,
            0.77,
            0.81,
            0.95,
            0.99,
            0.24,
            0.61,
            0.95,
            0.92,
            0.94,
            0.54,
            0.74,
            0.92
           ],
           [
            0.95,
            0.97,
            0.39,
            0.68,
            0.94,
            0.95,
            0.97,
            0.34,
            0.66,
            0.94,
            0.81,
            0.89,
            0.3,
            0.59,
            0.86,
            0.95,
            0.97,
            0.33,
            0.65,
            0.94,
            0.92,
            0.96,
            0.43,
            0.69,
            0.93
           ],
           [
            "",
            69809,
            3998,
            73807,
            73807,
            "",
            69809,
            3998,
            73807,
            73807,
            "",
            69809,
            3998,
            73807,
            73807,
            "",
            69809,
            3998,
            73807,
            73807,
            "",
            69809,
            3998,
            73807,
            73807
           ]
          ]
         },
         "header": {
          "align": "left",
          "fill": {
           "color": "paleturquoise"
          },
          "values": [
           "Model",
           "Class",
           "Precision",
           "Recall",
           "F1-Score",
           "Support"
          ]
         },
         "type": "table"
        }
       ],
       "layout": {
        "height": 800,
        "template": {
         "data": {
          "bar": [
           {
            "error_x": {
             "color": "#2a3f5f"
            },
            "error_y": {
             "color": "#2a3f5f"
            },
            "marker": {
             "line": {
              "color": "#E5ECF6",
              "width": 0.5
             },
             "pattern": {
              "fillmode": "overlay",
              "size": 10,
              "solidity": 0.2
             }
            },
            "type": "bar"
           }
          ],
          "barpolar": [
           {
            "marker": {
             "line": {
              "color": "#E5ECF6",
              "width": 0.5
             },
             "pattern": {
              "fillmode": "overlay",
              "size": 10,
              "solidity": 0.2
             }
            },
            "type": "barpolar"
           }
          ],
          "carpet": [
           {
            "aaxis": {
             "endlinecolor": "#2a3f5f",
             "gridcolor": "white",
             "linecolor": "white",
             "minorgridcolor": "white",
             "startlinecolor": "#2a3f5f"
            },
            "baxis": {
             "endlinecolor": "#2a3f5f",
             "gridcolor": "white",
             "linecolor": "white",
             "minorgridcolor": "white",
             "startlinecolor": "#2a3f5f"
            },
            "type": "carpet"
           }
          ],
          "choropleth": [
           {
            "colorbar": {
             "outlinewidth": 0,
             "ticks": ""
            },
            "type": "choropleth"
           }
          ],
          "contour": [
           {
            "colorbar": {
             "outlinewidth": 0,
             "ticks": ""
            },
            "colorscale": [
             [
              0,
              "#0d0887"
             ],
             [
              0.1111111111111111,
              "#46039f"
             ],
             [
              0.2222222222222222,
              "#7201a8"
             ],
             [
              0.3333333333333333,
              "#9c179e"
             ],
             [
              0.4444444444444444,
              "#bd3786"
             ],
             [
              0.5555555555555556,
              "#d8576b"
             ],
             [
              0.6666666666666666,
              "#ed7953"
             ],
             [
              0.7777777777777778,
              "#fb9f3a"
             ],
             [
              0.8888888888888888,
              "#fdca26"
             ],
             [
              1,
              "#f0f921"
             ]
            ],
            "type": "contour"
           }
          ],
          "contourcarpet": [
           {
            "colorbar": {
             "outlinewidth": 0,
             "ticks": ""
            },
            "type": "contourcarpet"
           }
          ],
          "heatmap": [
           {
            "colorbar": {
             "outlinewidth": 0,
             "ticks": ""
            },
            "colorscale": [
             [
              0,
              "#0d0887"
             ],
             [
              0.1111111111111111,
              "#46039f"
             ],
             [
              0.2222222222222222,
              "#7201a8"
             ],
             [
              0.3333333333333333,
              "#9c179e"
             ],
             [
              0.4444444444444444,
              "#bd3786"
             ],
             [
              0.5555555555555556,
              "#d8576b"
             ],
             [
              0.6666666666666666,
              "#ed7953"
             ],
             [
              0.7777777777777778,
              "#fb9f3a"
             ],
             [
              0.8888888888888888,
              "#fdca26"
             ],
             [
              1,
              "#f0f921"
             ]
            ],
            "type": "heatmap"
           }
          ],
          "heatmapgl": [
           {
            "colorbar": {
             "outlinewidth": 0,
             "ticks": ""
            },
            "colorscale": [
             [
              0,
              "#0d0887"
             ],
             [
              0.1111111111111111,
              "#46039f"
             ],
             [
              0.2222222222222222,
              "#7201a8"
             ],
             [
              0.3333333333333333,
              "#9c179e"
             ],
             [
              0.4444444444444444,
              "#bd3786"
             ],
             [
              0.5555555555555556,
              "#d8576b"
             ],
             [
              0.6666666666666666,
              "#ed7953"
             ],
             [
              0.7777777777777778,
              "#fb9f3a"
             ],
             [
              0.8888888888888888,
              "#fdca26"
             ],
             [
              1,
              "#f0f921"
             ]
            ],
            "type": "heatmapgl"
           }
          ],
          "histogram": [
           {
            "marker": {
             "pattern": {
              "fillmode": "overlay",
              "size": 10,
              "solidity": 0.2
             }
            },
            "type": "histogram"
           }
          ],
          "histogram2d": [
           {
            "colorbar": {
             "outlinewidth": 0,
             "ticks": ""
            },
            "colorscale": [
             [
              0,
              "#0d0887"
             ],
             [
              0.1111111111111111,
              "#46039f"
             ],
             [
              0.2222222222222222,
              "#7201a8"
             ],
             [
              0.3333333333333333,
              "#9c179e"
             ],
             [
              0.4444444444444444,
              "#bd3786"
             ],
             [
              0.5555555555555556,
              "#d8576b"
             ],
             [
              0.6666666666666666,
              "#ed7953"
             ],
             [
              0.7777777777777778,
              "#fb9f3a"
             ],
             [
              0.8888888888888888,
              "#fdca26"
             ],
             [
              1,
              "#f0f921"
             ]
            ],
            "type": "histogram2d"
           }
          ],
          "histogram2dcontour": [
           {
            "colorbar": {
             "outlinewidth": 0,
             "ticks": ""
            },
            "colorscale": [
             [
              0,
              "#0d0887"
             ],
             [
              0.1111111111111111,
              "#46039f"
             ],
             [
              0.2222222222222222,
              "#7201a8"
             ],
             [
              0.3333333333333333,
              "#9c179e"
             ],
             [
              0.4444444444444444,
              "#bd3786"
             ],
             [
              0.5555555555555556,
              "#d8576b"
             ],
             [
              0.6666666666666666,
              "#ed7953"
             ],
             [
              0.7777777777777778,
              "#fb9f3a"
             ],
             [
              0.8888888888888888,
              "#fdca26"
             ],
             [
              1,
              "#f0f921"
             ]
            ],
            "type": "histogram2dcontour"
           }
          ],
          "mesh3d": [
           {
            "colorbar": {
             "outlinewidth": 0,
             "ticks": ""
            },
            "type": "mesh3d"
           }
          ],
          "parcoords": [
           {
            "line": {
             "colorbar": {
              "outlinewidth": 0,
              "ticks": ""
             }
            },
            "type": "parcoords"
           }
          ],
          "pie": [
           {
            "automargin": true,
            "type": "pie"
           }
          ],
          "scatter": [
           {
            "fillpattern": {
             "fillmode": "overlay",
             "size": 10,
             "solidity": 0.2
            },
            "type": "scatter"
           }
          ],
          "scatter3d": [
           {
            "line": {
             "colorbar": {
              "outlinewidth": 0,
              "ticks": ""
             }
            },
            "marker": {
             "colorbar": {
              "outlinewidth": 0,
              "ticks": ""
             }
            },
            "type": "scatter3d"
           }
          ],
          "scattercarpet": [
           {
            "marker": {
             "colorbar": {
              "outlinewidth": 0,
              "ticks": ""
             }
            },
            "type": "scattercarpet"
           }
          ],
          "scattergeo": [
           {
            "marker": {
             "colorbar": {
              "outlinewidth": 0,
              "ticks": ""
             }
            },
            "type": "scattergeo"
           }
          ],
          "scattergl": [
           {
            "marker": {
             "colorbar": {
              "outlinewidth": 0,
              "ticks": ""
             }
            },
            "type": "scattergl"
           }
          ],
          "scattermapbox": [
           {
            "marker": {
             "colorbar": {
              "outlinewidth": 0,
              "ticks": ""
             }
            },
            "type": "scattermapbox"
           }
          ],
          "scatterpolar": [
           {
            "marker": {
             "colorbar": {
              "outlinewidth": 0,
              "ticks": ""
             }
            },
            "type": "scatterpolar"
           }
          ],
          "scatterpolargl": [
           {
            "marker": {
             "colorbar": {
              "outlinewidth": 0,
              "ticks": ""
             }
            },
            "type": "scatterpolargl"
           }
          ],
          "scatterternary": [
           {
            "marker": {
             "colorbar": {
              "outlinewidth": 0,
              "ticks": ""
             }
            },
            "type": "scatterternary"
           }
          ],
          "surface": [
           {
            "colorbar": {
             "outlinewidth": 0,
             "ticks": ""
            },
            "colorscale": [
             [
              0,
              "#0d0887"
             ],
             [
              0.1111111111111111,
              "#46039f"
             ],
             [
              0.2222222222222222,
              "#7201a8"
             ],
             [
              0.3333333333333333,
              "#9c179e"
             ],
             [
              0.4444444444444444,
              "#bd3786"
             ],
             [
              0.5555555555555556,
              "#d8576b"
             ],
             [
              0.6666666666666666,
              "#ed7953"
             ],
             [
              0.7777777777777778,
              "#fb9f3a"
             ],
             [
              0.8888888888888888,
              "#fdca26"
             ],
             [
              1,
              "#f0f921"
             ]
            ],
            "type": "surface"
           }
          ],
          "table": [
           {
            "cells": {
             "fill": {
              "color": "#EBF0F8"
             },
             "line": {
              "color": "white"
             }
            },
            "header": {
             "fill": {
              "color": "#C8D4E3"
             },
             "line": {
              "color": "white"
             }
            },
            "type": "table"
           }
          ]
         },
         "layout": {
          "annotationdefaults": {
           "arrowcolor": "#2a3f5f",
           "arrowhead": 0,
           "arrowwidth": 1
          },
          "autotypenumbers": "strict",
          "coloraxis": {
           "colorbar": {
            "outlinewidth": 0,
            "ticks": ""
           }
          },
          "colorscale": {
           "diverging": [
            [
             0,
             "#8e0152"
            ],
            [
             0.1,
             "#c51b7d"
            ],
            [
             0.2,
             "#de77ae"
            ],
            [
             0.3,
             "#f1b6da"
            ],
            [
             0.4,
             "#fde0ef"
            ],
            [
             0.5,
             "#f7f7f7"
            ],
            [
             0.6,
             "#e6f5d0"
            ],
            [
             0.7,
             "#b8e186"
            ],
            [
             0.8,
             "#7fbc41"
            ],
            [
             0.9,
             "#4d9221"
            ],
            [
             1,
             "#276419"
            ]
           ],
           "sequential": [
            [
             0,
             "#0d0887"
            ],
            [
             0.1111111111111111,
             "#46039f"
            ],
            [
             0.2222222222222222,
             "#7201a8"
            ],
            [
             0.3333333333333333,
             "#9c179e"
            ],
            [
             0.4444444444444444,
             "#bd3786"
            ],
            [
             0.5555555555555556,
             "#d8576b"
            ],
            [
             0.6666666666666666,
             "#ed7953"
            ],
            [
             0.7777777777777778,
             "#fb9f3a"
            ],
            [
             0.8888888888888888,
             "#fdca26"
            ],
            [
             1,
             "#f0f921"
            ]
           ],
           "sequentialminus": [
            [
             0,
             "#0d0887"
            ],
            [
             0.1111111111111111,
             "#46039f"
            ],
            [
             0.2222222222222222,
             "#7201a8"
            ],
            [
             0.3333333333333333,
             "#9c179e"
            ],
            [
             0.4444444444444444,
             "#bd3786"
            ],
            [
             0.5555555555555556,
             "#d8576b"
            ],
            [
             0.6666666666666666,
             "#ed7953"
            ],
            [
             0.7777777777777778,
             "#fb9f3a"
            ],
            [
             0.8888888888888888,
             "#fdca26"
            ],
            [
             1,
             "#f0f921"
            ]
           ]
          },
          "colorway": [
           "#636efa",
           "#EF553B",
           "#00cc96",
           "#ab63fa",
           "#FFA15A",
           "#19d3f3",
           "#FF6692",
           "#B6E880",
           "#FF97FF",
           "#FECB52"
          ],
          "font": {
           "color": "#2a3f5f"
          },
          "geo": {
           "bgcolor": "white",
           "lakecolor": "white",
           "landcolor": "#E5ECF6",
           "showlakes": true,
           "showland": true,
           "subunitcolor": "white"
          },
          "hoverlabel": {
           "align": "left"
          },
          "hovermode": "closest",
          "mapbox": {
           "style": "light"
          },
          "paper_bgcolor": "white",
          "plot_bgcolor": "#E5ECF6",
          "polar": {
           "angularaxis": {
            "gridcolor": "white",
            "linecolor": "white",
            "ticks": ""
           },
           "bgcolor": "#E5ECF6",
           "radialaxis": {
            "gridcolor": "white",
            "linecolor": "white",
            "ticks": ""
           }
          },
          "scene": {
           "xaxis": {
            "backgroundcolor": "#E5ECF6",
            "gridcolor": "white",
            "gridwidth": 2,
            "linecolor": "white",
            "showbackground": true,
            "ticks": "",
            "zerolinecolor": "white"
           },
           "yaxis": {
            "backgroundcolor": "#E5ECF6",
            "gridcolor": "white",
            "gridwidth": 2,
            "linecolor": "white",
            "showbackground": true,
            "ticks": "",
            "zerolinecolor": "white"
           },
           "zaxis": {
            "backgroundcolor": "#E5ECF6",
            "gridcolor": "white",
            "gridwidth": 2,
            "linecolor": "white",
            "showbackground": true,
            "ticks": "",
            "zerolinecolor": "white"
           }
          },
          "shapedefaults": {
           "line": {
            "color": "#2a3f5f"
           }
          },
          "ternary": {
           "aaxis": {
            "gridcolor": "white",
            "linecolor": "white",
            "ticks": ""
           },
           "baxis": {
            "gridcolor": "white",
            "linecolor": "white",
            "ticks": ""
           },
           "bgcolor": "#E5ECF6",
           "caxis": {
            "gridcolor": "white",
            "linecolor": "white",
            "ticks": ""
           }
          },
          "title": {
           "x": 0.05
          },
          "xaxis": {
           "automargin": true,
           "gridcolor": "white",
           "linecolor": "white",
           "ticks": "",
           "title": {
            "standoff": 15
           },
           "zerolinecolor": "white",
           "zerolinewidth": 2
          },
          "yaxis": {
           "automargin": true,
           "gridcolor": "white",
           "linecolor": "white",
           "ticks": "",
           "title": {
            "standoff": 15
           },
           "zerolinecolor": "white",
           "zerolinewidth": 2
          }
         }
        },
        "title": {
         "text": "Comparação dos relatorios dos teste dos melhores modelos"
        }
       }
      }
     },
     "metadata": {},
     "output_type": "display_data"
    }
   ],
   "source": [
    "import pandas as pd\n",
    "import plotly.graph_objects as go\n",
    "\n",
    "\n",
    "def generate_comparison_table(reports):\n",
    "    \"\"\" Gera uma tabela comparativa dos relatórios de classificação dos modelos. \"\"\"\n",
    "    data = []\n",
    "\n",
    "    for model_name, report in reportstest.items():\n",
    "        # Adiciona a acurácia\n",
    "        accuracy = round(report.get('accuracy', 0), 2)\n",
    "        data.append({'Model': model_name,\n",
    "                     'Class': 'Accuracy',\n",
    "                     'Precision': accuracy,\n",
    "                     'Recall': accuracy,\n",
    "                     'F1-Score': accuracy,\n",
    "                     'Support': ''})\n",
    "\n",
    "        # Adiciona uma linha para cada classe\n",
    "        for cls, metrics in report.items():\n",
    "            if cls == 'accuracy':\n",
    "                continue  # Ignora a linha de 'accuracy'\n",
    "            row = {'Model': model_name,\n",
    "                   'Class': cls,\n",
    "                   'Precision': round(metrics.get('precision', 0), 2),\n",
    "                   'Recall': round(metrics.get('recall', 0), 2),\n",
    "                   'F1-Score': round(metrics.get('f1-score', 0), 2),\n",
    "                   'Support': round(metrics.get('support', 0), 2)}\n",
    "            data.append(row)\n",
    "\n",
    "    df_all = pd.DataFrame(data)\n",
    "    return df_all\n",
    "\n",
    "# Gerar a tabela comparativa\n",
    "df_comparison = generate_comparison_table(reportstest)\n",
    "\n",
    "# Exibir a tabela com Plotly\n",
    "fig = go.Figure( data=[go.Table(\n",
    "    header=dict(values=list(df_comparison.columns),\n",
    "                fill_color='paleturquoise',\n",
    "                align='left'),\n",
    "    cells=dict(values=[df_comparison[col] for col in df_comparison.columns],\n",
    "               fill_color='lavender',\n",
    "               align='left'))\n",
    "])\n",
    "\n",
    "fig.update_layout(title=\"Comparação dos relatorios dos teste dos melhores modelos\",height=800)\n",
    "fig.show()\n"
   ]
  }
 ],
 "metadata": {
  "kernelspec": {
   "display_name": "Python 3",
   "language": "python",
   "name": "python3"
  },
  "language_info": {
   "codemirror_mode": {
    "name": "ipython",
    "version": 3
   },
   "file_extension": ".py",
   "mimetype": "text/x-python",
   "name": "python",
   "nbconvert_exporter": "python",
   "pygments_lexer": "ipython3",
   "version": "3.12.4"
  }
 },
 "nbformat": 4,
 "nbformat_minor": 2
}
